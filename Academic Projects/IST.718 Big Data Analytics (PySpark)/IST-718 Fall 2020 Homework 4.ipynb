{
  "nbformat": 4,
  "nbformat_minor": 0,
  "metadata": {
    "kernelspec": {
      "display_name": "Python 3",
      "language": "python",
      "name": "python3"
    },
    "language_info": {
      "codemirror_mode": {
        "name": "ipython",
        "version": 3
      },
      "file_extension": ".py",
      "mimetype": "text/x-python",
      "name": "python",
      "nbconvert_exporter": "python",
      "pygments_lexer": "ipython3",
      "version": "3.6.11"
    },
    "colab": {
      "name": "IST-718 Fall 2020 Homework 4.ipynb",
      "provenance": [],
      "collapsed_sections": []
    }
  },
  "cells": [
    {
      "cell_type": "markdown",
      "metadata": {
        "id": "eVCg27B--mnW"
      },
      "source": [
        "##### Grading Feedback Cell"
      ]
    },
    {
      "cell_type": "markdown",
      "metadata": {
        "id": "RpGEBdMQ-mnY"
      },
      "source": [
        "# IST 718: Big Data Analytics\n",
        "\n",
        "- Professor: Willard Williamson <wewillia@syr.edu>\n",
        "- Faculty Assistant: Vidushi Mishra <vmishr01@syr.edu>\n",
        "- Faculty Assistant: Pranav Kottoli Radhakrishna <pkottoli@syr.edu>\n",
        "## General instructions:\n",
        "\n",
        "- You are welcome to discuss the problems with your classmates but __you are not allowed to copy any part of your answers from your classmates.  Short code snippets are allowed from the internet.  Code from the class text books or class provided code can be copied in its entirety.__\n",
        "- There could be tests in some cells (i.e., `assert` and `np.testing.` statements). These tests (if present) are used to grade your answers. **However, the professor and FAs could use __additional__ test for your answer. Think about cases where your code should run even if it passess all the tests you see.**\n",
        "- Before submitting your work, remember to check for run time errors with the following procedure:\n",
        "`Kernel`$\\rightarrow$`Restart and Run All`.  All runtime errors will result in a minimum penalty of half off.\n",
        "- Data Bricks is the official class runtime environment so you should test your code on Data Bricks before submission.  If there is a runtime problem in the grading environment, we will try your code on Data Bricks before making a final grading decision.\n",
        "- All plots shall include descriptinve title and axis labels.  Plot legends shall be included where possible.  Unless stated otherwise, plots can be made using any Python plotting package.  It is understood that spark data structures must be converted to something like numpy or pandas prior to making plots.  All required mathematical operations, filtering, selection, etc., required by a homework question shall be performed in spark prior to converting to numpy or pandas.\n",
        "- Grading feedback cells are there for graders to provide feedback to students.  Don't change or remove grading feedback cells.\n",
        "- Don't add or remove files from your git repo.\n",
        "- Do not change file names in your repo.  This also means don't change the title of the ipython notebook.\n",
        "- You are free to add additional code cells around the cells marked `your code here`.\n",
        "- We reserve the right to take points off for operations that are extremely inefficient or \"heavy weight\".  This is a big data class and extremely inefficient operations make a big difference when scaling up to large data sets.  For example, the spark dataframe collect() method is a very heavy weight operation and should not be used unless it there is a real need for it.  An example where collect() might be needed is to get ready to make a plot after filtering a spark dataframe.\n",
        "- import * is not allowed because it is considered a very bad coding practice and in some cases can result in a significant delay (which slows down the grading process) in loading imports.  For example, the statement `from sympy import *` is not allowed.  You must import the specific packages that you need.\n",
        "- If you perform databricks specific operations, you MUST protect those operations in an if statement by calling the is_databricks() function provided in all homework assignments.  For example, if you use dbutils (databricks utilities), only run dbutils commands if is_databricks() returns true.  Runtime errors created in the grading environment by not protecting databricks specific commands in an if statement will result in a runtime error points deduction. \n",
        "- The graders reserve the right to deduct points for subjective things we see with your code.  For example, if we ask you to create a pandas data frame to display values from an investigation and you hard code the values, we will take points off for that.  This is only one of many different things we could find in reviewing your code.  In general, write your code like you are submitting it for a code peer review in industry.  \n",
        "- Level of effort is part of our subjective grading.  Oftentimes there is a large disparity between the level of effort between students who are trying learn, and students who are trying to do the minimum possible to check off an assignment requirement.  For example, in cases where we ask for a more open ended investigation, some students put in significant effort and some students do the minimum possible to meet requirements.  In these cases, we may take points off for students who did not put in much effort as compared to students who did put in a lot of effort.  We feel that the students who did a better job deserve a better grade.  We reserve the right to invoke level of effort grading at any time.\n",
        "- Only use spark, spark machine learning, spark data frames, RDD's, and map reduce to solve all problems unless instructed otherwise.\n",
        "- Unless code is provided which reads data files, __you must use the get_training_filename function povided below to read data files.\"  Runtime errors encountered while grading caused by students not using get_training_filename will result in a minimum of half points off for the problem in question.__"
      ]
    },
    {
      "cell_type": "code",
      "metadata": {
        "id": "izUgN-mF-vr9",
        "outputId": "ddc5ce2f-5a4c-42b5-a890-c12d61311910",
        "colab": {
          "base_uri": "https://localhost:8080/",
          "height": 1000
        }
      },
      "source": [
        "%%bash\n",
        "\n",
        "# Need to install pyspark\n",
        "# if pyspark is already installed, will print a message indicating pyspark already isntalled\n",
        "pip install pyspark\n",
        "\n",
        "# Download tweets.csv from github\n",
        "# If the tweets.csv file does not exist in the colab environment\n",
        "if [[ ! -f ./tweets.csv ]]; then \n",
        "   # download tweets.csv file from github and save it in this colab environment instance\n",
        "   wget https://raw.githubusercontent.com/wewilli1/ist718_data/master/tweets.csv   \n",
        "fi\n",
        "\n",
        "# vefify tweets.csv exits in the colab env - should not print an error message\n",
        "ls tweets.csv"
      ],
      "execution_count": null,
      "outputs": [
        {
          "output_type": "stream",
          "text": [
            "Collecting pyspark\n",
            "  Downloading https://files.pythonhosted.org/packages/f0/26/198fc8c0b98580f617cb03cb298c6056587b8f0447e20fa40c5b634ced77/pyspark-3.0.1.tar.gz (204.2MB)\n",
            "Collecting py4j==0.10.9\n",
            "  Downloading https://files.pythonhosted.org/packages/9e/b6/6a4fb90cd235dc8e265a6a2067f2a2c99f0d91787f06aca4bcf7c23f3f80/py4j-0.10.9-py2.py3-none-any.whl (198kB)\n",
            "Building wheels for collected packages: pyspark\n",
            "  Building wheel for pyspark (setup.py): started\n",
            "  Building wheel for pyspark (setup.py): finished with status 'done'\n",
            "  Created wheel for pyspark: filename=pyspark-3.0.1-py2.py3-none-any.whl size=204612243 sha256=cc3c8e00ca48560e68294c9fd07420279a7584f2ed280f4d5ed8fabf4d57ab2e\n",
            "  Stored in directory: /root/.cache/pip/wheels/5e/bd/07/031766ca628adec8435bb40f0bd83bb676ce65ff4007f8e73f\n",
            "Successfully built pyspark\n",
            "Installing collected packages: py4j, pyspark\n",
            "Successfully installed py4j-0.10.9 pyspark-3.0.1\n",
            "tweets.csv\n"
          ],
          "name": "stdout"
        },
        {
          "output_type": "stream",
          "text": [
            "--2020-10-21 03:49:12--  https://raw.githubusercontent.com/wewilli1/ist718_data/master/tweets.csv\n",
            "Resolving raw.githubusercontent.com (raw.githubusercontent.com)... 151.101.0.133, 151.101.64.133, 151.101.128.133, ...\n",
            "Connecting to raw.githubusercontent.com (raw.githubusercontent.com)|151.101.0.133|:443... connected.\n",
            "HTTP request sent, awaiting response... 200 OK\n",
            "Length: 13727793 (13M) [text/plain]\n",
            "Saving to: ‘tweets.csv’\n",
            "\n",
            "     0K .......... .......... .......... .......... ..........  0% 2.28M 6s\n",
            "    50K .......... .......... .......... .......... ..........  0% 5.21M 4s\n",
            "   100K .......... .......... .......... .......... ..........  1% 14.4M 3s\n",
            "   150K .......... .......... .......... .......... ..........  1% 6.30M 3s\n",
            "   200K .......... .......... .......... .......... ..........  1% 12.0M 2s\n",
            "   250K .......... .......... .......... .......... ..........  2% 8.22M 2s\n",
            "   300K .......... .......... .......... .......... ..........  2% 11.3M 2s\n",
            "   350K .......... .......... .......... .......... ..........  2% 7.47M 2s\n",
            "   400K .......... .......... .......... .......... ..........  3% 17.7M 2s\n",
            "   450K .......... .......... .......... .......... ..........  3% 11.9M 2s\n",
            "   500K .......... .......... .......... .......... ..........  4% 8.89M 2s\n",
            "   550K .......... .......... .......... .......... ..........  4% 17.4M 2s\n",
            "   600K .......... .......... .......... .......... ..........  4% 8.30M 2s\n",
            "   650K .......... .......... .......... .......... ..........  5% 11.3M 2s\n",
            "   700K .......... .......... .......... .......... ..........  5% 15.3M 2s\n",
            "   750K .......... .......... .......... .......... ..........  5% 9.15M 2s\n",
            "   800K .......... .......... .......... .......... ..........  6% 13.6M 1s\n",
            "   850K .......... .......... .......... .......... ..........  6% 24.4M 1s\n",
            "   900K .......... .......... .......... .......... ..........  7% 8.50M 1s\n",
            "   950K .......... .......... .......... .......... ..........  7% 17.7M 1s\n",
            "  1000K .......... .......... .......... .......... ..........  7% 10.7M 1s\n",
            "  1050K .......... .......... .......... .......... ..........  8% 11.1M 1s\n",
            "  1100K .......... .......... .......... .......... ..........  8% 17.6M 1s\n",
            "  1150K .......... .......... .......... .......... ..........  8% 10.4M 1s\n",
            "  1200K .......... .......... .......... .......... ..........  9% 19.4M 1s\n",
            "  1250K .......... .......... .......... .......... ..........  9% 15.2M 1s\n",
            "  1300K .......... .......... .......... .......... .......... 10% 17.2M 1s\n",
            "  1350K .......... .......... .......... .......... .......... 10% 13.4M 1s\n",
            "  1400K .......... .......... .......... .......... .......... 10% 18.4M 1s\n",
            "  1450K .......... .......... .......... .......... .......... 11% 12.0M 1s\n",
            "  1500K .......... .......... .......... .......... .......... 11% 12.8M 1s\n",
            "  1550K .......... .......... .......... .......... .......... 11% 23.3M 1s\n",
            "  1600K .......... .......... .......... .......... .......... 12% 23.4M 1s\n",
            "  1650K .......... .......... .......... .......... .......... 12% 9.63M 1s\n",
            "  1700K .......... .......... .......... .......... .......... 13% 16.8M 1s\n",
            "  1750K .......... .......... .......... .......... .......... 13% 26.4M 1s\n",
            "  1800K .......... .......... .......... .......... .......... 13% 13.4M 1s\n",
            "  1850K .......... .......... .......... .......... .......... 14% 13.5M 1s\n",
            "  1900K .......... .......... .......... .......... .......... 14% 21.1M 1s\n",
            "  1950K .......... .......... .......... .......... .......... 14% 19.9M 1s\n",
            "  2000K .......... .......... .......... .......... .......... 15% 17.8M 1s\n",
            "  2050K .......... .......... .......... .......... .......... 15% 17.3M 1s\n",
            "  2100K .......... .......... .......... .......... .......... 16% 17.3M 1s\n",
            "  2150K .......... .......... .......... .......... .......... 16% 26.1M 1s\n",
            "  2200K .......... .......... .......... .......... .......... 16% 17.8M 1s\n",
            "  2250K .......... .......... .......... .......... .......... 17% 16.0M 1s\n",
            "  2300K .......... .......... .......... .......... .......... 17% 17.3M 1s\n",
            "  2350K .......... .......... .......... .......... .......... 17% 26.0M 1s\n",
            "  2400K .......... .......... .......... .......... .......... 18% 18.9M 1s\n",
            "  2450K .......... .......... .......... .......... .......... 18% 20.6M 1s\n",
            "  2500K .......... .......... .......... .......... .......... 19% 17.9M 1s\n",
            "  2550K .......... .......... .......... .......... .......... 19% 17.5M 1s\n",
            "  2600K .......... .......... .......... .......... .......... 19% 23.1M 1s\n",
            "  2650K .......... .......... .......... .......... .......... 20% 15.3M 1s\n",
            "  2700K .......... .......... .......... .......... .......... 20% 15.9M 1s\n",
            "  2750K .......... .......... .......... .......... .......... 20% 89.1M 1s\n",
            "  2800K .......... .......... .......... .......... .......... 21% 13.8M 1s\n",
            "  2850K .......... .......... .......... .......... .......... 21% 58.5M 1s\n",
            "  2900K .......... .......... .......... .......... .......... 22% 17.7M 1s\n",
            "  2950K .......... .......... .......... .......... .......... 22% 18.7M 1s\n",
            "  3000K .......... .......... .......... .......... .......... 22% 31.2M 1s\n",
            "  3050K .......... .......... .......... .......... .......... 23% 13.8M 1s\n",
            "  3100K .......... .......... .......... .......... .......... 23% 22.0M 1s\n",
            "  3150K .......... .......... .......... .......... .......... 23% 14.7M 1s\n",
            "  3200K .......... .......... .......... .......... .......... 24%  146M 1s\n",
            "  3250K .......... .......... .......... .......... .......... 24% 18.0M 1s\n",
            "  3300K .......... .......... .......... .......... .......... 24% 38.0M 1s\n",
            "  3350K .......... .......... .......... .......... .......... 25% 15.8M 1s\n",
            "  3400K .......... .......... .......... .......... .......... 25%  224M 1s\n",
            "  3450K .......... .......... .......... .......... .......... 26% 15.4M 1s\n",
            "  3500K .......... .......... .......... .......... .......... 26% 18.5M 1s\n",
            "  3550K .......... .......... .......... .......... .......... 26% 32.8M 1s\n",
            "  3600K .......... .......... .......... .......... .......... 27% 19.1M 1s\n",
            "  3650K .......... .......... .......... .......... .......... 27% 44.6M 1s\n",
            "  3700K .......... .......... .......... .......... .......... 27% 17.2M 1s\n",
            "  3750K .......... .......... .......... .......... .......... 28% 49.6M 1s\n",
            "  3800K .......... .......... .......... .......... .......... 28% 23.8M 1s\n",
            "  3850K .......... .......... .......... .......... .......... 29% 12.3M 1s\n",
            "  3900K .......... .......... .......... .......... .......... 29% 58.2M 1s\n",
            "  3950K .......... .......... .......... .......... .......... 29% 22.2M 1s\n",
            "  4000K .......... .......... .......... .......... .......... 30% 33.2M 1s\n",
            "  4050K .......... .......... .......... .......... .......... 30% 31.8M 1s\n",
            "  4100K .......... .......... .......... .......... .......... 30% 12.3M 1s\n",
            "  4150K .......... .......... .......... .......... .......... 31% 41.2M 1s\n",
            "  4200K .......... .......... .......... .......... .......... 31% 44.2M 1s\n",
            "  4250K .......... .......... .......... .......... .......... 32% 19.4M 1s\n",
            "  4300K .......... .......... .......... .......... .......... 32% 23.5M 1s\n",
            "  4350K .......... .......... .......... .......... .......... 32% 50.9M 1s\n",
            "  4400K .......... .......... .......... .......... .......... 33% 16.3M 1s\n",
            "  4450K .......... .......... .......... .......... .......... 33% 57.5M 1s\n",
            "  4500K .......... .......... .......... .......... .......... 33% 25.7M 1s\n",
            "  4550K .......... .......... .......... .......... .......... 34% 47.1M 1s\n",
            "  4600K .......... .......... .......... .......... .......... 34% 23.1M 1s\n",
            "  4650K .......... .......... .......... .......... .......... 35% 27.7M 1s\n",
            "  4700K .......... .......... .......... .......... .......... 35% 23.0M 1s\n",
            "  4750K .......... .......... .......... .......... .......... 35% 32.4M 1s\n",
            "  4800K .......... .......... .......... .......... .......... 36% 46.8M 1s\n",
            "  4850K .......... .......... .......... .......... .......... 36% 26.0M 1s\n",
            "  4900K .......... .......... .......... .......... .......... 36% 48.0M 1s\n",
            "  4950K .......... .......... .......... .......... .......... 37% 18.5M 1s\n",
            "  5000K .......... .......... .......... .......... .......... 37% 19.9M 1s\n",
            "  5050K .......... .......... .......... .......... .......... 38% 39.9M 1s\n",
            "  5100K .......... .......... .......... .......... .......... 38% 59.2M 0s\n",
            "  5150K .......... .......... .......... .......... .......... 38% 30.7M 0s\n",
            "  5200K .......... .......... .......... .......... .......... 39% 25.3M 0s\n",
            "  5250K .......... .......... .......... .......... .......... 39% 22.7M 0s\n",
            "  5300K .......... .......... .......... .......... .......... 39%  120M 0s\n",
            "  5350K .......... .......... .......... .......... .......... 40% 16.8M 0s\n",
            "  5400K .......... .......... .......... .......... .......... 40%  201M 0s\n",
            "  5450K .......... .......... .......... .......... .......... 41% 35.6M 0s\n",
            "  5500K .......... .......... .......... .......... .......... 41% 34.6M 0s\n",
            "  5550K .......... .......... .......... .......... .......... 41% 24.9M 0s\n",
            "  5600K .......... .......... .......... .......... .......... 42%  210M 0s\n",
            "  5650K .......... .......... .......... .......... .......... 42% 20.8M 0s\n",
            "  5700K .......... .......... .......... .......... .......... 42% 16.7M 0s\n",
            "  5750K .......... .......... .......... .......... .......... 43%  155M 0s\n",
            "  5800K .......... .......... .......... .......... .......... 43% 36.6M 0s\n",
            "  5850K .......... .......... .......... .......... .......... 44% 44.4M 0s\n",
            "  5900K .......... .......... .......... .......... .......... 44% 22.3M 0s\n",
            "  5950K .......... .......... .......... .......... .......... 44% 38.3M 0s\n",
            "  6000K .......... .......... .......... .......... .......... 45% 49.0M 0s\n",
            "  6050K .......... .......... .......... .......... .......... 45%  187M 0s\n",
            "  6100K .......... .......... .......... .......... .......... 45% 14.8M 0s\n",
            "  6150K .......... .......... .......... .......... .......... 46% 36.7M 0s\n",
            "  6200K .......... .......... .......... .......... .......... 46% 96.7M 0s\n",
            "  6250K .......... .......... .......... .......... .......... 46% 35.9M 0s\n",
            "  6300K .......... .......... .......... .......... .......... 47% 28.4M 0s\n",
            "  6350K .......... .......... .......... .......... .......... 47% 33.0M 0s\n",
            "  6400K .......... .......... .......... .......... .......... 48% 90.1M 0s\n",
            "  6450K .......... .......... .......... .......... .......... 48% 40.9M 0s\n",
            "  6500K .......... .......... .......... .......... .......... 48% 21.7M 0s\n",
            "  6550K .......... .......... .......... .......... .......... 49% 34.6M 0s\n",
            "  6600K .......... .......... .......... .......... .......... 49% 65.4M 0s\n",
            "  6650K .......... .......... .......... .......... .......... 49% 16.4M 0s\n",
            "  6700K .......... .......... .......... .......... .......... 50% 47.1M 0s\n",
            "  6750K .......... .......... .......... .......... .......... 50%  121M 0s\n",
            "  6800K .......... .......... .......... .......... .......... 51% 84.1M 0s\n",
            "  6850K .......... .......... .......... .......... .......... 51% 33.5M 0s\n",
            "  6900K .......... .......... .......... .......... .......... 51% 28.0M 0s\n",
            "  6950K .......... .......... .......... .......... .......... 52% 43.8M 0s\n",
            "  7000K .......... .......... .......... .......... .......... 52%  106M 0s\n",
            "  7050K .......... .......... .......... .......... .......... 52% 35.1M 0s\n",
            "  7100K .......... .......... .......... .......... .......... 53% 16.0M 0s\n",
            "  7150K .......... .......... .......... .......... .......... 53% 74.5M 0s\n",
            "  7200K .......... .......... .......... .......... .......... 54% 97.1M 0s\n",
            "  7250K .......... .......... .......... .......... .......... 54% 67.1M 0s\n",
            "  7300K .......... .......... .......... .......... .......... 54% 41.2M 0s\n",
            "  7350K .......... .......... .......... .......... .......... 55% 40.6M 0s\n",
            "  7400K .......... .......... .......... .......... .......... 55% 45.7M 0s\n",
            "  7450K .......... .......... .......... .......... .......... 55% 45.6M 0s\n",
            "  7500K .......... .......... .......... .......... .......... 56% 45.1M 0s\n",
            "  7550K .......... .......... .......... .......... .......... 56% 18.6M 0s\n",
            "  7600K .......... .......... .......... .......... .......... 57% 53.0M 0s\n",
            "  7650K .......... .......... .......... .......... .......... 57% 51.2M 0s\n",
            "  7700K .......... .......... .......... .......... .......... 57% 62.6M 0s\n",
            "  7750K .......... .......... .......... .......... .......... 58% 61.0M 0s\n",
            "  7800K .......... .......... .......... .......... .......... 58% 41.9M 0s\n",
            "  7850K .......... .......... .......... .......... .......... 58% 47.8M 0s\n",
            "  7900K .......... .......... .......... .......... .......... 59% 66.0M 0s\n",
            "  7950K .......... .......... .......... .......... .......... 59% 30.7M 0s\n",
            "  8000K .......... .......... .......... .......... .......... 60% 22.2M 0s\n",
            "  8050K .......... .......... .......... .......... .......... 60% 46.3M 0s\n",
            "  8100K .......... .......... .......... .......... .......... 60%  160M 0s\n",
            "  8150K .......... .......... .......... .......... .......... 61% 40.6M 0s\n",
            "  8200K .......... .......... .......... .......... .......... 61% 51.5M 0s\n",
            "  8250K .......... .......... .......... .......... .......... 61% 35.2M 0s\n",
            "  8300K .......... .......... .......... .......... .......... 62% 49.6M 0s\n",
            "  8350K .......... .......... .......... .......... .......... 62%  169M 0s\n",
            "  8400K .......... .......... .......... .......... .......... 63% 94.6M 0s\n",
            "  8450K .......... .......... .......... .......... .......... 63% 29.9M 0s\n",
            "  8500K .......... .......... .......... .......... .......... 63% 21.2M 0s\n",
            "  8550K .......... .......... .......... .......... .......... 64% 80.2M 0s\n",
            "  8600K .......... .......... .......... .......... .......... 64%  121M 0s\n",
            "  8650K .......... .......... .......... .......... .......... 64% 36.8M 0s\n",
            "  8700K .......... .......... .......... .......... .......... 65% 61.2M 0s\n",
            "  8750K .......... .......... .......... .......... .......... 65% 36.3M 0s\n",
            "  8800K .......... .......... .......... .......... .......... 66%  189M 0s\n",
            "  8850K .......... .......... .......... .......... .......... 66% 46.3M 0s\n",
            "  8900K .......... .......... .......... .......... .......... 66% 89.7M 0s\n",
            "  8950K .......... .......... .......... .......... .......... 67% 34.4M 0s\n",
            "  9000K .......... .......... .......... .......... .......... 67% 67.0M 0s\n",
            "  9050K .......... .......... .......... .......... .......... 67% 20.0M 0s\n",
            "  9100K .......... .......... .......... .......... .......... 68%  189M 0s\n",
            "  9150K .......... .......... .......... .......... .......... 68% 31.5M 0s\n",
            "  9200K .......... .......... .......... .......... .......... 68%  160M 0s\n",
            "  9250K .......... .......... .......... .......... .......... 69% 28.4M 0s\n",
            "  9300K .......... .......... .......... .......... .......... 69%  241M 0s\n",
            "  9350K .......... .......... .......... .......... .......... 70% 40.5M 0s\n",
            "  9400K .......... .......... .......... .......... .......... 70%  123M 0s\n",
            "  9450K .......... .......... .......... .......... .......... 70% 49.7M 0s\n",
            "  9500K .......... .......... .......... .......... .......... 71% 17.0M 0s\n",
            "  9550K .......... .......... .......... .......... .......... 71%  194M 0s\n",
            "  9600K .......... .......... .......... .......... .......... 71%  121M 0s\n",
            "  9650K .......... .......... .......... .......... .......... 72% 26.2M 0s\n",
            "  9700K .......... .......... .......... .......... .......... 72%  149M 0s\n",
            "  9750K .......... .......... .......... .......... .......... 73%  200M 0s\n",
            "  9800K .......... .......... .......... .......... .......... 73% 16.5M 0s\n",
            "  9850K .......... .......... .......... .......... .......... 73%  199M 0s\n",
            "  9900K .......... .......... .......... .......... .......... 74%  260M 0s\n",
            "  9950K .......... .......... .......... .......... .......... 74% 64.4M 0s\n",
            " 10000K .......... .......... .......... .......... .......... 74%  214M 0s\n",
            " 10050K .......... .......... .......... .......... .......... 75% 48.3M 0s\n",
            " 10100K .......... .......... .......... .......... .......... 75% 20.6M 0s\n",
            " 10150K .......... .......... .......... .......... .......... 76% 81.8M 0s\n",
            " 10200K .......... .......... .......... .......... .......... 76%  229M 0s\n",
            " 10250K .......... .......... .......... .......... .......... 76% 29.9M 0s\n",
            " 10300K .......... .......... .......... .......... .......... 77%  245M 0s\n",
            " 10350K .......... .......... .......... .......... .......... 77% 31.5M 0s\n",
            " 10400K .......... .......... .......... .......... .......... 77% 45.6M 0s\n",
            " 10450K .......... .......... .......... .......... .......... 78%  122M 0s\n",
            " 10500K .......... .......... .......... .......... .......... 78%  114M 0s\n",
            " 10550K .......... .......... .......... .......... .......... 79% 57.8M 0s\n",
            " 10600K .......... .......... .......... .......... .......... 79% 51.5M 0s\n",
            " 10650K .......... .......... .......... .......... .......... 79% 24.5M 0s\n",
            " 10700K .......... .......... .......... .......... .......... 80% 78.9M 0s\n",
            " 10750K .......... .......... .......... .......... .......... 80% 85.9M 0s\n",
            " 10800K .......... .......... .......... .......... .......... 80% 37.9M 0s\n",
            " 10850K .......... .......... .......... .......... .......... 81% 69.4M 0s\n",
            " 10900K .......... .......... .......... .......... .......... 81% 83.2M 0s\n",
            " 10950K .......... .......... .......... .......... .......... 82% 58.0M 0s\n",
            " 11000K .......... .......... .......... .......... .......... 82% 35.1M 0s\n",
            " 11050K .......... .......... .......... .......... .......... 82% 99.2M 0s\n",
            " 11100K .......... .......... .......... .......... .......... 83% 68.2M 0s\n",
            " 11150K .......... .......... .......... .......... .......... 83%  180M 0s\n",
            " 11200K .......... .......... .......... .......... .......... 83% 54.0M 0s\n",
            " 11250K .......... .......... .......... .......... .......... 84% 23.7M 0s\n",
            " 11300K .......... .......... .......... .......... .......... 84% 56.8M 0s\n",
            " 11350K .......... .......... .......... .......... .......... 85%  137M 0s\n",
            " 11400K .......... .......... .......... .......... .......... 85%  191M 0s\n",
            " 11450K .......... .......... .......... .......... .......... 85% 24.4M 0s\n",
            " 11500K .......... .......... .......... .......... .......... 86%  163M 0s\n",
            " 11550K .......... .......... .......... .......... .......... 86% 76.9M 0s\n",
            " 11600K .......... .......... .......... .......... .......... 86% 33.8M 0s\n",
            " 11650K .......... .......... .......... .......... .......... 87%  184M 0s\n",
            " 11700K .......... .......... .......... .......... .......... 87% 58.5M 0s\n",
            " 11750K .......... .......... .......... .......... .......... 88%  143M 0s\n",
            " 11800K .......... .......... .......... .......... .......... 88% 63.8M 0s\n",
            " 11850K .......... .......... .......... .......... .......... 88% 23.0M 0s\n",
            " 11900K .......... .......... .......... .......... .......... 89%  207M 0s\n",
            " 11950K .......... .......... .......... .......... .......... 89% 63.7M 0s\n",
            " 12000K .......... .......... .......... .......... .......... 89% 94.5M 0s\n",
            " 12050K .......... .......... .......... .......... .......... 90% 27.8M 0s\n",
            " 12100K .......... .......... .......... .......... .......... 90%  126M 0s\n",
            " 12150K .......... .......... .......... .......... .......... 91%  154M 0s\n",
            " 12200K .......... .......... .......... .......... .......... 91% 98.3M 0s\n",
            " 12250K .......... .......... .......... .......... .......... 91% 27.5M 0s\n",
            " 12300K .......... .......... .......... .......... .......... 92% 75.6M 0s\n",
            " 12350K .......... .......... .......... .......... .......... 92%  211M 0s\n",
            " 12400K .......... .......... .......... .......... .......... 92% 77.8M 0s\n",
            " 12450K .......... .......... .......... .......... .......... 93% 66.6M 0s\n",
            " 12500K .......... .......... .......... .......... .......... 93% 25.4M 0s\n",
            " 12550K .......... .......... .......... .......... .......... 93%  200M 0s\n",
            " 12600K .......... .......... .......... .......... .......... 94% 81.1M 0s\n",
            " 12650K .......... .......... .......... .......... .......... 94% 88.3M 0s\n",
            " 12700K .......... .......... .......... .......... .......... 95% 28.4M 0s\n",
            " 12750K .......... .......... .......... .......... .......... 95% 79.9M 0s\n",
            " 12800K .......... .......... .......... .......... .......... 95%  215M 0s\n",
            " 12850K .......... .......... .......... .......... .......... 96%  116M 0s\n",
            " 12900K .......... .......... .......... .......... .......... 96% 56.8M 0s\n",
            " 12950K .......... .......... .......... .......... .......... 96% 64.8M 0s\n",
            " 13000K .......... .......... .......... .......... .......... 97% 66.1M 0s\n",
            " 13050K .......... .......... .......... .......... .......... 97%  167M 0s\n",
            " 13100K .......... .......... .......... .......... .......... 98% 53.9M 0s\n",
            " 13150K .......... .......... .......... .......... .......... 98% 83.7M 0s\n",
            " 13200K .......... .......... .......... .......... .......... 98% 20.0M 0s\n",
            " 13250K .......... .......... .......... .......... .......... 99%  142M 0s\n",
            " 13300K .......... .......... .......... .......... .......... 99%  194M 0s\n",
            " 13350K .......... .......... .......... .......... .......... 99% 62.1M 0s\n",
            " 13400K ......                                                100%  140M=0.5s\n",
            "\n",
            "2020-10-21 03:49:12 (27.2 MB/s) - ‘tweets.csv’ saved [13727793/13727793]\n",
            "\n"
          ],
          "name": "stderr"
        }
      ]
    },
    {
      "cell_type": "code",
      "metadata": {
        "id": "7nJDOfKT-2YR"
      },
      "source": [
        "# import statements\n",
        "from pyspark.sql import SparkSession\n",
        "from pyspark.sql import SQLContext\n",
        "spark = SparkSession.builder.getOrCreate()\n",
        "sc = spark.sparkContext\n",
        "sqlContext = SQLContext(sc)"
      ],
      "execution_count": null,
      "outputs": []
    },
    {
      "cell_type": "code",
      "metadata": {
        "id": "ebdn1WZl-8ZD",
        "outputId": "27635d76-41f0-4ab3-ffaf-2c91b8d4785d",
        "colab": {
          "base_uri": "https://localhost:8080/",
          "height": 122
        }
      },
      "source": [
        "# example code to read the downloaded tweets.csv file on colab\n",
        "tweets_df = spark.read.format(\"csv\").option(\"header\", \"true\").load(\"tweets.csv\")\n",
        "tweets_df.take(5)"
      ],
      "execution_count": null,
      "outputs": [
        {
          "output_type": "execute_result",
          "data": {
            "text/plain": [
              "[Row(target='4', id='1467822272', date='Mon Apr 06 22:22:45 PDT 2009', flag='NO_QUERY', user='ersle', text='I LOVE @Health4UandPets u guys r the best!! '),\n",
              " Row(target='4', id='1467822273', date='Mon Apr 06 22:22:45 PDT 2009', flag='NO_QUERY', user='becca210', text='im meeting up with one of my besties tonight! Cant wait!!  - GIRL TALK!!'),\n",
              " Row(target='4', id='1467822283', date='Mon Apr 06 22:22:46 PDT 2009', flag='NO_QUERY', user='Wingman29', text='@DaRealSunisaKim Thanks for the Twitter add, Sunisa! I got to meet you once at a HIN show here in the DC area and you were a sweetheart. '),\n",
              " Row(target='4', id='1467822287', date='Mon Apr 06 22:22:46 PDT 2009', flag='NO_QUERY', user='katarinka', text='Being sick can be really cheap when it hurts too much to eat real food  Plus, your friends make you soup'),\n",
              " Row(target='4', id='1467822293', date='Mon Apr 06 22:22:46 PDT 2009', flag='NO_QUERY', user='_EmilyYoung', text='@LovesBrooklyn2 he has that effect on everyone ')]"
            ]
          },
          "metadata": {
            "tags": []
          },
          "execution_count": 3
        }
      ]
    },
    {
      "cell_type": "markdown",
      "metadata": {
        "id": "Z20d_Nd6_Ttf"
      },
      "source": [
        "What problems did you have with colab?  Your comments here:\n",
        "There are certainly some issues with the interface and some functions do not work exactly the way I want it to be. But for the purpose of getting the homework done, I definitely prefer colab than databricks."
      ]
    },
    {
      "cell_type": "markdown",
      "metadata": {
        "id": "VgzFkz0l-mnf"
      },
      "source": [
        "# Sentiment Analysis\n",
        "In this assignment, you will use the tweets.csv file to perform sentiment analysis. The tweets.csv file contains the following columns:\n",
        "- target: the polarity of the tweet (0 = negative, 4 = positive)\n",
        "- ids: The id of the tweet ( 2087)\n",
        "- date: the date of the tweet (Sat May 16 23:58:44 UTC 2009)\n",
        "- flag: The query (lyx). If there is no query, then this value is NO_QUERY.\n",
        "- user: the user that tweeted (robotickilldozr)\n",
        "- text: the text of the tweet (Lyx is cool)"
      ]
    },
    {
      "cell_type": "markdown",
      "metadata": {
        "id": "hGiBBlFq-mng"
      },
      "source": [
        "# Qustion 1: (10 pts)\n",
        "Read tweets.csv into a spark dataframe named `tweets_df`.  Solutions that do not use `get_training_filename` will be heavily penalized.  Drop all columns except target and text.  Transform the target column such that a negative sentiment is equal to 0 and a positive sentiment is equal to 1.  Determine and print the percentage of positive and negative tweets in the dataframe such that it's easy for the graders to find and interpret your data."
      ]
    },
    {
      "cell_type": "code",
      "metadata": {
        "id": "8iQIQ39H-mng"
      },
      "source": [
        "# your code here\n",
        "\n",
        "from pyspark.sql.functions import *\n",
        "from pyspark.sql.types import IntegerType\n",
        "\n",
        "tweets_df = spark.read.format(\"csv\").option(\"header\", \"true\").load(\"tweets.csv\")\n",
        "columns_to_drop = ['id', 'date', 'flag', 'user']\n",
        "tweets_df = tweets_df.drop(*columns_to_drop)\n",
        "\n",
        "tweets_df = tweets_df.withColumn('target', regexp_replace('target', '4', '1'))\n",
        "tweets_df = tweets_df.withColumn('target', tweets_df['target'].cast(IntegerType()))\n"
      ],
      "execution_count": null,
      "outputs": []
    },
    {
      "cell_type": "code",
      "metadata": {
        "id": "Q5RB58L3-mnk",
        "outputId": "66f643c3-b27e-4fd8-f3d8-6b571ac6a199",
        "colab": {
          "base_uri": "https://localhost:8080/",
          "height": 221
        }
      },
      "source": [
        "# grading cell do not modify\n",
        "tweets_pd = tweets_df.toPandas()\n",
        "display(tweets_pd.head())\n",
        "print(tweets_pd.shape)"
      ],
      "execution_count": null,
      "outputs": [
        {
          "output_type": "display_data",
          "data": {
            "text/html": [
              "<div>\n",
              "<style scoped>\n",
              "    .dataframe tbody tr th:only-of-type {\n",
              "        vertical-align: middle;\n",
              "    }\n",
              "\n",
              "    .dataframe tbody tr th {\n",
              "        vertical-align: top;\n",
              "    }\n",
              "\n",
              "    .dataframe thead th {\n",
              "        text-align: right;\n",
              "    }\n",
              "</style>\n",
              "<table border=\"1\" class=\"dataframe\">\n",
              "  <thead>\n",
              "    <tr style=\"text-align: right;\">\n",
              "      <th></th>\n",
              "      <th>target</th>\n",
              "      <th>text</th>\n",
              "    </tr>\n",
              "  </thead>\n",
              "  <tbody>\n",
              "    <tr>\n",
              "      <th>0</th>\n",
              "      <td>1</td>\n",
              "      <td>I LOVE @Health4UandPets u guys r the best!!</td>\n",
              "    </tr>\n",
              "    <tr>\n",
              "      <th>1</th>\n",
              "      <td>1</td>\n",
              "      <td>im meeting up with one of my besties tonight! ...</td>\n",
              "    </tr>\n",
              "    <tr>\n",
              "      <th>2</th>\n",
              "      <td>1</td>\n",
              "      <td>@DaRealSunisaKim Thanks for the Twitter add, S...</td>\n",
              "    </tr>\n",
              "    <tr>\n",
              "      <th>3</th>\n",
              "      <td>1</td>\n",
              "      <td>Being sick can be really cheap when it hurts t...</td>\n",
              "    </tr>\n",
              "    <tr>\n",
              "      <th>4</th>\n",
              "      <td>1</td>\n",
              "      <td>@LovesBrooklyn2 he has that effect on everyone</td>\n",
              "    </tr>\n",
              "  </tbody>\n",
              "</table>\n",
              "</div>"
            ],
            "text/plain": [
              "   target                                               text\n",
              "0       1       I LOVE @Health4UandPets u guys r the best!! \n",
              "1       1  im meeting up with one of my besties tonight! ...\n",
              "2       1  @DaRealSunisaKim Thanks for the Twitter add, S...\n",
              "3       1  Being sick can be really cheap when it hurts t...\n",
              "4       1    @LovesBrooklyn2 he has that effect on everyone "
            ]
          },
          "metadata": {
            "tags": []
          }
        },
        {
          "output_type": "stream",
          "text": [
            "(100000, 2)\n"
          ],
          "name": "stdout"
        }
      ]
    },
    {
      "cell_type": "markdown",
      "metadata": {
        "id": "Pz-uxOQr-mnn"
      },
      "source": [
        "##### Grading Feedback Cell"
      ]
    },
    {
      "cell_type": "markdown",
      "metadata": {
        "id": "RCkOUQAO-mno"
      },
      "source": [
        "# Question 2: (10 pts)\n",
        "Pre-process the data by creating a pipeline named `tweets_pre_proc_pipe`. Your pipeline should tokenize, remove stop words, and do a TF-IDF transformation.  Fit and execute your pipeline, and create a new dataframe named `tweets_pre_proc_df`.  Print the shape of the resulting TF-IDF data such that it's easy for the graders to find and understand as num rows x num words. Based on the shape of the TF-IDF data, would you expect a logistic regression model to overfit?"
      ]
    },
    {
      "cell_type": "code",
      "metadata": {
        "id": "GArBzB8V-mnp"
      },
      "source": [
        "# your code here\n",
        "from pyspark.ml import Pipeline\n",
        "from pyspark.ml.feature import Tokenizer\n",
        "from pyspark.ml.feature import CountVectorizer\n",
        "import requests\n",
        "from pyspark.ml.feature import StopWordsRemover\n",
        "from pyspark.ml.feature import IDF\n",
        "\n",
        "stop_words = requests.get('http://ir.dcs.gla.ac.uk/resources/linguistic_utils/stop_words').text.split()\n",
        "\n",
        "tokenizer = Tokenizer().setInputCol('text').setOutputCol('words')\n",
        "\n",
        "sw_filter = StopWordsRemover()\\\n",
        "  .setStopWords(stop_words)\\\n",
        "  .setCaseSensitive(False)\\\n",
        "  .setInputCol(\"words\")\\\n",
        "  .setOutputCol(\"filtered\")\n",
        "\n",
        "cv = CountVectorizer(minTF=1., minDF=5., vocabSize=2**17)\\\n",
        "  .setInputCol(\"filtered\")\\\n",
        "  .setOutputCol(\"tf\")\n",
        "\n",
        "idf = IDF()\\\n",
        "  .setInputCol('tf')\\\n",
        "  .setOutputCol('tfidf')\n",
        "\n",
        "\n",
        "cv_pipeline = Pipeline(stages=[tokenizer, sw_filter, cv]).fit(tweets_df)\n",
        "tweets_pre_proc_pipe = Pipeline(stages=[cv_pipeline, idf]).fit(tweets_df)\n",
        "tweets_pre_proc_df = tweets_pre_proc_pipe.transform(tweets_df)"
      ],
      "execution_count": null,
      "outputs": []
    },
    {
      "cell_type": "code",
      "metadata": {
        "id": "zWMjq16YGt3h",
        "outputId": "f6970cb5-1bcc-426a-c827-f61bdd06303a",
        "colab": {
          "base_uri": "https://localhost:8080/",
          "height": 51
        }
      },
      "source": [
        "print('number of rows =',tweets_pre_proc_df.count())\n",
        "temp_df = tweets_pre_proc_df.toPandas()\n",
        "print('number of words =',temp_df['tfidf'].iloc[0].size)"
      ],
      "execution_count": null,
      "outputs": [
        {
          "output_type": "stream",
          "text": [
            "number of rows = 100000\n",
            "number of words = 13693\n"
          ],
          "name": "stdout"
        }
      ]
    },
    {
      "cell_type": "code",
      "metadata": {
        "id": "T4MeO587-mns",
        "outputId": "5d3bb642-38a9-4d1d-f78e-f77529b10f45",
        "colab": {
          "base_uri": "https://localhost:8080/",
          "height": 204
        }
      },
      "source": [
        "# grading cell do not modify\n",
        "display(tweets_pre_proc_df.toPandas().head())"
      ],
      "execution_count": null,
      "outputs": [
        {
          "output_type": "display_data",
          "data": {
            "text/html": [
              "<div>\n",
              "<style scoped>\n",
              "    .dataframe tbody tr th:only-of-type {\n",
              "        vertical-align: middle;\n",
              "    }\n",
              "\n",
              "    .dataframe tbody tr th {\n",
              "        vertical-align: top;\n",
              "    }\n",
              "\n",
              "    .dataframe thead th {\n",
              "        text-align: right;\n",
              "    }\n",
              "</style>\n",
              "<table border=\"1\" class=\"dataframe\">\n",
              "  <thead>\n",
              "    <tr style=\"text-align: right;\">\n",
              "      <th></th>\n",
              "      <th>target</th>\n",
              "      <th>text</th>\n",
              "      <th>words</th>\n",
              "      <th>filtered</th>\n",
              "      <th>tf</th>\n",
              "      <th>tfidf</th>\n",
              "    </tr>\n",
              "  </thead>\n",
              "  <tbody>\n",
              "    <tr>\n",
              "      <th>0</th>\n",
              "      <td>1</td>\n",
              "      <td>I LOVE @Health4UandPets u guys r the best!!</td>\n",
              "      <td>[i, love, @health4uandpets, u, guys, r, the, b...</td>\n",
              "      <td>[love, @health4uandpets, u, guys, r, best!!]</td>\n",
              "      <td>(0.0, 0.0, 0.0, 0.0, 0.0, 0.0, 0.0, 0.0, 0.0, ...</td>\n",
              "      <td>(0.0, 0.0, 0.0, 0.0, 0.0, 0.0, 0.0, 0.0, 0.0, ...</td>\n",
              "    </tr>\n",
              "    <tr>\n",
              "      <th>1</th>\n",
              "      <td>1</td>\n",
              "      <td>im meeting up with one of my besties tonight! ...</td>\n",
              "      <td>[im, meeting, up, with, one, of, my, besties, ...</td>\n",
              "      <td>[im, meeting, besties, tonight!, wait!!, , -, ...</td>\n",
              "      <td>(1.0, 0.0, 0.0, 0.0, 0.0, 1.0, 0.0, 0.0, 0.0, ...</td>\n",
              "      <td>(1.1265280578718189, 0.0, 0.0, 0.0, 0.0, 3.183...</td>\n",
              "    </tr>\n",
              "    <tr>\n",
              "      <th>2</th>\n",
              "      <td>1</td>\n",
              "      <td>@DaRealSunisaKim Thanks for the Twitter add, S...</td>\n",
              "      <td>[@darealsunisakim, thanks, for, the, twitter, ...</td>\n",
              "      <td>[@darealsunisakim, thanks, twitter, add,, suni...</td>\n",
              "      <td>(0.0, 0.0, 0.0, 0.0, 0.0, 0.0, 0.0, 0.0, 0.0, ...</td>\n",
              "      <td>(0.0, 0.0, 0.0, 0.0, 0.0, 0.0, 0.0, 0.0, 0.0, ...</td>\n",
              "    </tr>\n",
              "    <tr>\n",
              "      <th>3</th>\n",
              "      <td>1</td>\n",
              "      <td>Being sick can be really cheap when it hurts t...</td>\n",
              "      <td>[being, sick, can, be, really, cheap, when, it...</td>\n",
              "      <td>[sick, really, cheap, hurts, eat, real, food, ...</td>\n",
              "      <td>(1.0, 0.0, 0.0, 0.0, 0.0, 0.0, 0.0, 0.0, 0.0, ...</td>\n",
              "      <td>(1.1265280578718189, 0.0, 0.0, 0.0, 0.0, 0.0, ...</td>\n",
              "    </tr>\n",
              "    <tr>\n",
              "      <th>4</th>\n",
              "      <td>1</td>\n",
              "      <td>@LovesBrooklyn2 he has that effect on everyone</td>\n",
              "      <td>[@lovesbrooklyn2, he, has, that, effect, on, e...</td>\n",
              "      <td>[@lovesbrooklyn2, effect]</td>\n",
              "      <td>(0.0, 0.0, 0.0, 0.0, 0.0, 0.0, 0.0, 0.0, 0.0, ...</td>\n",
              "      <td>(0.0, 0.0, 0.0, 0.0, 0.0, 0.0, 0.0, 0.0, 0.0, ...</td>\n",
              "    </tr>\n",
              "  </tbody>\n",
              "</table>\n",
              "</div>"
            ],
            "text/plain": [
              "   target  ...                                              tfidf\n",
              "0       1  ...  (0.0, 0.0, 0.0, 0.0, 0.0, 0.0, 0.0, 0.0, 0.0, ...\n",
              "1       1  ...  (1.1265280578718189, 0.0, 0.0, 0.0, 0.0, 3.183...\n",
              "2       1  ...  (0.0, 0.0, 0.0, 0.0, 0.0, 0.0, 0.0, 0.0, 0.0, ...\n",
              "3       1  ...  (1.1265280578718189, 0.0, 0.0, 0.0, 0.0, 0.0, ...\n",
              "4       1  ...  (0.0, 0.0, 0.0, 0.0, 0.0, 0.0, 0.0, 0.0, 0.0, ...\n",
              "\n",
              "[5 rows x 6 columns]"
            ]
          },
          "metadata": {
            "tags": []
          }
        }
      ]
    },
    {
      "cell_type": "markdown",
      "metadata": {
        "id": "hklLPQg2-mnw"
      },
      "source": [
        "Your explanation here: \n",
        "I think if we build a logistic regression with the tf-idf data, it will not be overfitting, even if it does, it should not be closely related to the shape of the tf-idf data. Beacause we have 13693 features for the model to train on, comparing to the total instances of the data, which is 100000. The variance of a regression model is proportional to the number of features in the training data, if we have more features than the instances of the training data, the model might be overfitting."
      ]
    },
    {
      "cell_type": "markdown",
      "metadata": {
        "id": "iCoX_G4Q-mnw"
      },
      "source": [
        "##### Grading Feedback Cell"
      ]
    },
    {
      "cell_type": "markdown",
      "metadata": {
        "id": "y5B2priL-mnx"
      },
      "source": [
        "# Question 3: (10 pts)\n",
        "Since IDF considers a word's frequency across all documents in a corpus, you can use IDF as a form of inference.  Examine the documentation for the spark ML object that you used to create TF-IDF scores and learn how to extract the IDF scores for words in the corpus.  Create a pandas dataframe containing the 5 most important IDF scores named `most_imp_idf`.  Create another pandas dataframe containing the 5 least important IDF scores named `least_imp_idf`.  Each dataframe shall have 2 columns named `word` and `idf_score`.  Explain in words your interpretation of what the IDF scores mean."
      ]
    },
    {
      "cell_type": "code",
      "metadata": {
        "id": "VP8AvXdR-mny"
      },
      "source": [
        "# your code here\n",
        "import pandas as pd\n",
        "vocabulary = tweets_pre_proc_pipe.stages[0].stages[-1].vocabulary"
      ],
      "execution_count": null,
      "outputs": []
    },
    {
      "cell_type": "code",
      "metadata": {
        "id": "w3ksaM4dS-Wz",
        "outputId": "8ad87c8b-d7f5-48ea-9e9a-5de473446354",
        "colab": {
          "base_uri": "https://localhost:8080/",
          "height": 419
        }
      },
      "source": [
        "idf_scores = tweets_pre_proc_pipe.stages[-1].idf.values.tolist()\n",
        "\n",
        "max_idf_val = sorted(idf_scores)[-1]\n",
        "indices = [i for i, x in enumerate(idf_scores) if x == max_idf_val]\n",
        "\n",
        "word = []\n",
        "for i in indices:\n",
        "  word.append(vocabulary[i])\n",
        "\n",
        "max_idf = [max_idf_val]*len(word)\n",
        "max_imp_idf = pd.DataFrame(list(zip(word, max_idf)), columns =['word', 'idf_score'])\n",
        "\n",
        "max_imp_idf"
      ],
      "execution_count": null,
      "outputs": [
        {
          "output_type": "execute_result",
          "data": {
            "text/html": [
              "<div>\n",
              "<style scoped>\n",
              "    .dataframe tbody tr th:only-of-type {\n",
              "        vertical-align: middle;\n",
              "    }\n",
              "\n",
              "    .dataframe tbody tr th {\n",
              "        vertical-align: top;\n",
              "    }\n",
              "\n",
              "    .dataframe thead th {\n",
              "        text-align: right;\n",
              "    }\n",
              "</style>\n",
              "<table border=\"1\" class=\"dataframe\">\n",
              "  <thead>\n",
              "    <tr style=\"text-align: right;\">\n",
              "      <th></th>\n",
              "      <th>word</th>\n",
              "      <th>idf_score</th>\n",
              "    </tr>\n",
              "  </thead>\n",
              "  <tbody>\n",
              "    <tr>\n",
              "      <th>0</th>\n",
              "      <td>tsk</td>\n",
              "      <td>9.721176</td>\n",
              "    </tr>\n",
              "    <tr>\n",
              "      <th>1</th>\n",
              "      <td>but..</td>\n",
              "      <td>9.721176</td>\n",
              "    </tr>\n",
              "    <tr>\n",
              "      <th>2</th>\n",
              "      <td>thks</td>\n",
              "      <td>9.721176</td>\n",
              "    </tr>\n",
              "    <tr>\n",
              "      <th>3</th>\n",
              "      <td>x(</td>\n",
              "      <td>9.721176</td>\n",
              "    </tr>\n",
              "    <tr>\n",
              "      <th>4</th>\n",
              "      <td>ve</td>\n",
              "      <td>9.721176</td>\n",
              "    </tr>\n",
              "    <tr>\n",
              "      <th>...</th>\n",
              "      <td>...</td>\n",
              "      <td>...</td>\n",
              "    </tr>\n",
              "    <tr>\n",
              "      <th>2080</th>\n",
              "      <td>pet.</td>\n",
              "      <td>9.721176</td>\n",
              "    </tr>\n",
              "    <tr>\n",
              "      <th>2081</th>\n",
              "      <td>@snarkattack</td>\n",
              "      <td>9.721176</td>\n",
              "    </tr>\n",
              "    <tr>\n",
              "      <th>2082</th>\n",
              "      <td>chidambaram</td>\n",
              "      <td>9.721176</td>\n",
              "    </tr>\n",
              "    <tr>\n",
              "      <th>2083</th>\n",
              "      <td>@milliemagsaysay</td>\n",
              "      <td>9.721176</td>\n",
              "    </tr>\n",
              "    <tr>\n",
              "      <th>2084</th>\n",
              "      <td>infection.</td>\n",
              "      <td>9.721176</td>\n",
              "    </tr>\n",
              "  </tbody>\n",
              "</table>\n",
              "<p>2085 rows × 2 columns</p>\n",
              "</div>"
            ],
            "text/plain": [
              "                  word  idf_score\n",
              "0                  tsk   9.721176\n",
              "1                but..   9.721176\n",
              "2                 thks   9.721176\n",
              "3                   x(   9.721176\n",
              "4                   ve   9.721176\n",
              "...                ...        ...\n",
              "2080              pet.   9.721176\n",
              "2081      @snarkattack   9.721176\n",
              "2082       chidambaram   9.721176\n",
              "2083  @milliemagsaysay   9.721176\n",
              "2084        infection.   9.721176\n",
              "\n",
              "[2085 rows x 2 columns]"
            ]
          },
          "metadata": {
            "tags": []
          },
          "execution_count": 10
        }
      ]
    },
    {
      "cell_type": "code",
      "metadata": {
        "id": "yksDZcunblMt",
        "outputId": "9eea3514-6273-4d88-b89d-a9a09258b456",
        "colab": {
          "base_uri": "https://localhost:8080/",
          "height": 204
        }
      },
      "source": [
        "least_5_idf_values = sorted(idf_scores)[:5]\n",
        "\n",
        "least_5_idf_tokens = []\n",
        "for i in least_5_idf_values:\n",
        "  least_5_idf_tokens.append(idf_scores.index(i))\n",
        "\n",
        "word = []\n",
        "for i in least_5_idf_tokens:\n",
        "  word.append(vocabulary[i])\n",
        "\n",
        "least_imp_idf = pd.DataFrame(list(zip(word, least_5_idf_values)), columns =['word', 'idf_score'])\n",
        "\n",
        "least_imp_idf"
      ],
      "execution_count": null,
      "outputs": [
        {
          "output_type": "execute_result",
          "data": {
            "text/html": [
              "<div>\n",
              "<style scoped>\n",
              "    .dataframe tbody tr th:only-of-type {\n",
              "        vertical-align: middle;\n",
              "    }\n",
              "\n",
              "    .dataframe tbody tr th {\n",
              "        vertical-align: top;\n",
              "    }\n",
              "\n",
              "    .dataframe thead th {\n",
              "        text-align: right;\n",
              "    }\n",
              "</style>\n",
              "<table border=\"1\" class=\"dataframe\">\n",
              "  <thead>\n",
              "    <tr style=\"text-align: right;\">\n",
              "      <th></th>\n",
              "      <th>word</th>\n",
              "      <th>idf_score</th>\n",
              "    </tr>\n",
              "  </thead>\n",
              "  <tbody>\n",
              "    <tr>\n",
              "      <th>0</th>\n",
              "      <td></td>\n",
              "      <td>1.126528</td>\n",
              "    </tr>\n",
              "    <tr>\n",
              "      <th>1</th>\n",
              "      <td>just</td>\n",
              "      <td>2.588812</td>\n",
              "    </tr>\n",
              "    <tr>\n",
              "      <th>2</th>\n",
              "      <td>i'm</td>\n",
              "      <td>2.645649</td>\n",
              "    </tr>\n",
              "    <tr>\n",
              "      <th>3</th>\n",
              "      <td>good</td>\n",
              "      <td>3.015945</td>\n",
              "    </tr>\n",
              "    <tr>\n",
              "      <th>4</th>\n",
              "      <td>like</td>\n",
              "      <td>3.113850</td>\n",
              "    </tr>\n",
              "  </tbody>\n",
              "</table>\n",
              "</div>"
            ],
            "text/plain": [
              "   word  idf_score\n",
              "0         1.126528\n",
              "1  just   2.588812\n",
              "2   i'm   2.645649\n",
              "3  good   3.015945\n",
              "4  like   3.113850"
            ]
          },
          "metadata": {
            "tags": []
          },
          "execution_count": 11
        }
      ]
    },
    {
      "cell_type": "markdown",
      "metadata": {
        "id": "GIrwEhTm-mn5"
      },
      "source": [
        "Your explanation here: \n",
        "The idf values is calculated by total number of documents / number of documents with a specific word in it. Since the totoal number of documents is a constant (in our case, 100000), less frequently appeared words would have larger idf scores. By doing so, when we are calculating the tfidf value using tf*idf, we are discounting those words that appear more frequently in more documents by the idf score. "
      ]
    },
    {
      "cell_type": "markdown",
      "metadata": {
        "id": "qyN-tX8b-mn6"
      },
      "source": [
        "##### Grading Feedback Cell"
      ]
    },
    {
      "cell_type": "markdown",
      "metadata": {
        "id": "jKOMxN_5-mn6"
      },
      "source": [
        "# Question 4: (10 pts)\n",
        "Create a new recursive pipeline named `lr_pipe` which starts with `tweets_pre_proc_pipe` and adds a logistic regression model using default hyper parameters.  Fit lr_pipe using `tweets_df`.  Score the model using ROC AUC.  Report the resulting AUC such that it is easy for graders to find and interpret."
      ]
    },
    {
      "cell_type": "code",
      "metadata": {
        "id": "LzBACx1a-mn7",
        "outputId": "ead95164-bceb-46d0-a178-13911a62ac20",
        "colab": {
          "base_uri": "https://localhost:8080/",
          "height": 34
        }
      },
      "source": [
        "# your code here\n",
        "from pyspark.ml.classification import LogisticRegression\n",
        "from pyspark.ml.evaluation import BinaryClassificationEvaluator\n",
        "\n",
        "train_df, test_df = tweets_df.randomSplit([0.7, 0.3], seed=0)\n",
        "\n",
        "lr = LogisticRegression().\\\n",
        "    setLabelCol('target').\\\n",
        "    setFeaturesCol('tfidf')\n",
        "\n",
        "lr_pipeline = Pipeline(stages=[tweets_pre_proc_pipe, lr]).fit(train_df)\n",
        "\n",
        "evaluator = BinaryClassificationEvaluator(labelCol='target')\n",
        "evaluator.evaluate(lr_pipeline.transform(test_df))\n",
        "    "
      ],
      "execution_count": null,
      "outputs": [
        {
          "output_type": "execute_result",
          "data": {
            "text/plain": [
              "0.7451840999127445"
            ]
          },
          "metadata": {
            "tags": []
          },
          "execution_count": 12
        }
      ]
    },
    {
      "cell_type": "markdown",
      "metadata": {
        "id": "f3QH_THd-mn9"
      },
      "source": [
        "##### Grading Feedback Cell"
      ]
    },
    {
      "cell_type": "markdown",
      "metadata": {
        "id": "a3LALqj0-mn9"
      },
      "source": [
        "# Question 5: (10 pts)\n",
        "Create 2 pandas dataframes named `lr_pipe_df_neg` and `lr_pipe_df_pos`which contain 2 colunms: `word` and `score`.  Load the 2 dataframes with the top 10 words and logistic regression coefficients that contribute the most to negative and positive sentiments respectively. Analyze the 2 dataframes and describe if the words make sense.  Do the words look like they are really negative and positive?"
      ]
    },
    {
      "cell_type": "code",
      "metadata": {
        "id": "30809Etb-mn9",
        "outputId": "637b0949-bb2d-41d4-f8c9-232a20547866",
        "colab": {
          "base_uri": "https://localhost:8080/",
          "height": 359
        }
      },
      "source": [
        "# your code here\n",
        "score = lr_pipeline.stages[-1].coefficients.toArray()\n",
        "coeffs_df = pd.DataFrame({'word': tweets_pre_proc_pipe.stages[0].stages[-1].vocabulary, 'score': score})\n",
        "lr_pipe_df_neg = coeffs_df[coeffs_df.score < 0]\n",
        "lr_pipe_df_pos = coeffs_df[coeffs_df.score > 0]\n",
        "\n",
        "lr_pipe_df_neg.sort_values('score').head(10)"
      ],
      "execution_count": null,
      "outputs": [
        {
          "output_type": "execute_result",
          "data": {
            "text/html": [
              "<div>\n",
              "<style scoped>\n",
              "    .dataframe tbody tr th:only-of-type {\n",
              "        vertical-align: middle;\n",
              "    }\n",
              "\n",
              "    .dataframe tbody tr th {\n",
              "        vertical-align: top;\n",
              "    }\n",
              "\n",
              "    .dataframe thead th {\n",
              "        text-align: right;\n",
              "    }\n",
              "</style>\n",
              "<table border=\"1\" class=\"dataframe\">\n",
              "  <thead>\n",
              "    <tr style=\"text-align: right;\">\n",
              "      <th></th>\n",
              "      <th>word</th>\n",
              "      <th>score</th>\n",
              "    </tr>\n",
              "  </thead>\n",
              "  <tbody>\n",
              "    <tr>\n",
              "      <th>13596</th>\n",
              "      <td>hope?</td>\n",
              "      <td>-9.467643</td>\n",
              "    </tr>\n",
              "    <tr>\n",
              "      <th>8380</th>\n",
              "      <td>selfish</td>\n",
              "      <td>-6.744463</td>\n",
              "    </tr>\n",
              "    <tr>\n",
              "      <th>11065</th>\n",
              "      <td>painfully</td>\n",
              "      <td>-6.258878</td>\n",
              "    </tr>\n",
              "    <tr>\n",
              "      <th>13691</th>\n",
              "      <td>@milliemagsaysay</td>\n",
              "      <td>-5.939989</td>\n",
              "    </tr>\n",
              "    <tr>\n",
              "      <th>12955</th>\n",
              "      <td>dec</td>\n",
              "      <td>-5.199164</td>\n",
              "    </tr>\n",
              "    <tr>\n",
              "      <th>12560</th>\n",
              "      <td>re.</td>\n",
              "      <td>-5.120213</td>\n",
              "    </tr>\n",
              "    <tr>\n",
              "      <th>12541</th>\n",
              "      <td>crummy</td>\n",
              "      <td>-4.793909</td>\n",
              "    </tr>\n",
              "    <tr>\n",
              "      <th>10360</th>\n",
              "      <td>why'd</td>\n",
              "      <td>-4.768670</td>\n",
              "    </tr>\n",
              "    <tr>\n",
              "      <th>12261</th>\n",
              "      <td>saddened</td>\n",
              "      <td>-4.748368</td>\n",
              "    </tr>\n",
              "    <tr>\n",
              "      <th>6770</th>\n",
              "      <td>pirates</td>\n",
              "      <td>-4.690658</td>\n",
              "    </tr>\n",
              "  </tbody>\n",
              "</table>\n",
              "</div>"
            ],
            "text/plain": [
              "                   word     score\n",
              "13596             hope? -9.467643\n",
              "8380            selfish -6.744463\n",
              "11065         painfully -6.258878\n",
              "13691  @milliemagsaysay -5.939989\n",
              "12955               dec -5.199164\n",
              "12560               re. -5.120213\n",
              "12541            crummy -4.793909\n",
              "10360             why'd -4.768670\n",
              "12261          saddened -4.748368\n",
              "6770            pirates -4.690658"
            ]
          },
          "metadata": {
            "tags": []
          },
          "execution_count": 13
        }
      ]
    },
    {
      "cell_type": "code",
      "metadata": {
        "id": "RI7NDUzX_Kz1",
        "outputId": "5aee9427-9fb5-4c73-def0-b8f290172336",
        "colab": {
          "base_uri": "https://localhost:8080/",
          "height": 359
        }
      },
      "source": [
        "lr_pipe_df_pos.sort_values('score', ascending=False).head(10)"
      ],
      "execution_count": null,
      "outputs": [
        {
          "output_type": "execute_result",
          "data": {
            "text/html": [
              "<div>\n",
              "<style scoped>\n",
              "    .dataframe tbody tr th:only-of-type {\n",
              "        vertical-align: middle;\n",
              "    }\n",
              "\n",
              "    .dataframe tbody tr th {\n",
              "        vertical-align: top;\n",
              "    }\n",
              "\n",
              "    .dataframe thead th {\n",
              "        text-align: right;\n",
              "    }\n",
              "</style>\n",
              "<table border=\"1\" class=\"dataframe\">\n",
              "  <thead>\n",
              "    <tr style=\"text-align: right;\">\n",
              "      <th></th>\n",
              "      <th>word</th>\n",
              "      <th>score</th>\n",
              "    </tr>\n",
              "  </thead>\n",
              "  <tbody>\n",
              "    <tr>\n",
              "      <th>7474</th>\n",
              "      <td>reunion</td>\n",
              "      <td>6.487646</td>\n",
              "    </tr>\n",
              "    <tr>\n",
              "      <th>10570</th>\n",
              "      <td>pizza?</td>\n",
              "      <td>5.991345</td>\n",
              "    </tr>\n",
              "    <tr>\n",
              "      <th>9459</th>\n",
              "      <td>lotr</td>\n",
              "      <td>5.710805</td>\n",
              "    </tr>\n",
              "    <tr>\n",
              "      <th>9732</th>\n",
              "      <td>tweeps,</td>\n",
              "      <td>5.456466</td>\n",
              "    </tr>\n",
              "    <tr>\n",
              "      <th>9780</th>\n",
              "      <td>interactive</td>\n",
              "      <td>5.447157</td>\n",
              "    </tr>\n",
              "    <tr>\n",
              "      <th>9930</th>\n",
              "      <td>ride!</td>\n",
              "      <td>5.346156</td>\n",
              "    </tr>\n",
              "    <tr>\n",
              "      <th>6462</th>\n",
              "      <td>romantic</td>\n",
              "      <td>5.248715</td>\n",
              "    </tr>\n",
              "    <tr>\n",
              "      <th>12170</th>\n",
              "      <td>peek</td>\n",
              "      <td>4.704929</td>\n",
              "    </tr>\n",
              "    <tr>\n",
              "      <th>11677</th>\n",
              "      <td>th?</td>\n",
              "      <td>4.628680</td>\n",
              "    </tr>\n",
              "    <tr>\n",
              "      <th>7092</th>\n",
              "      <td>hob</td>\n",
              "      <td>4.527096</td>\n",
              "    </tr>\n",
              "  </tbody>\n",
              "</table>\n",
              "</div>"
            ],
            "text/plain": [
              "              word     score\n",
              "7474       reunion  6.487646\n",
              "10570       pizza?  5.991345\n",
              "9459          lotr  5.710805\n",
              "9732       tweeps,  5.456466\n",
              "9780   interactive  5.447157\n",
              "9930         ride!  5.346156\n",
              "6462      romantic  5.248715\n",
              "12170         peek  4.704929\n",
              "11677          th?  4.628680\n",
              "7092           hob  4.527096"
            ]
          },
          "metadata": {
            "tags": []
          },
          "execution_count": 14
        }
      ]
    },
    {
      "cell_type": "code",
      "metadata": {
        "id": "718ISYdi-mn_",
        "outputId": "14ab761c-adbd-4d37-bd20-1ce0b074e349",
        "colab": {
          "base_uri": "https://localhost:8080/",
          "height": 821
        }
      },
      "source": [
        "# grading cell - do not modify\n",
        "display(lr_pipe_df_neg)\n",
        "display(lr_pipe_df_pos)"
      ],
      "execution_count": null,
      "outputs": [
        {
          "output_type": "display_data",
          "data": {
            "text/html": [
              "<div>\n",
              "<style scoped>\n",
              "    .dataframe tbody tr th:only-of-type {\n",
              "        vertical-align: middle;\n",
              "    }\n",
              "\n",
              "    .dataframe tbody tr th {\n",
              "        vertical-align: top;\n",
              "    }\n",
              "\n",
              "    .dataframe thead th {\n",
              "        text-align: right;\n",
              "    }\n",
              "</style>\n",
              "<table border=\"1\" class=\"dataframe\">\n",
              "  <thead>\n",
              "    <tr style=\"text-align: right;\">\n",
              "      <th></th>\n",
              "      <th>word</th>\n",
              "      <th>score</th>\n",
              "    </tr>\n",
              "  </thead>\n",
              "  <tbody>\n",
              "    <tr>\n",
              "      <th>0</th>\n",
              "      <td></td>\n",
              "      <td>-0.168379</td>\n",
              "    </tr>\n",
              "    <tr>\n",
              "      <th>2</th>\n",
              "      <td>i'm</td>\n",
              "      <td>-0.023807</td>\n",
              "    </tr>\n",
              "    <tr>\n",
              "      <th>6</th>\n",
              "      <td>it's</td>\n",
              "      <td>-0.103550</td>\n",
              "    </tr>\n",
              "    <tr>\n",
              "      <th>8</th>\n",
              "      <td>day</td>\n",
              "      <td>-0.089533</td>\n",
              "    </tr>\n",
              "    <tr>\n",
              "      <th>9</th>\n",
              "      <td>got</td>\n",
              "      <td>-0.109349</td>\n",
              "    </tr>\n",
              "    <tr>\n",
              "      <th>...</th>\n",
              "      <td>...</td>\n",
              "      <td>...</td>\n",
              "    </tr>\n",
              "    <tr>\n",
              "      <th>13686</th>\n",
              "      <td>@anistorm</td>\n",
              "      <td>-1.229415</td>\n",
              "    </tr>\n",
              "    <tr>\n",
              "      <th>13688</th>\n",
              "      <td>pet.</td>\n",
              "      <td>-1.684006</td>\n",
              "    </tr>\n",
              "    <tr>\n",
              "      <th>13690</th>\n",
              "      <td>chidambaram</td>\n",
              "      <td>-0.495094</td>\n",
              "    </tr>\n",
              "    <tr>\n",
              "      <th>13691</th>\n",
              "      <td>@milliemagsaysay</td>\n",
              "      <td>-5.939989</td>\n",
              "    </tr>\n",
              "    <tr>\n",
              "      <th>13692</th>\n",
              "      <td>infection.</td>\n",
              "      <td>-1.352647</td>\n",
              "    </tr>\n",
              "  </tbody>\n",
              "</table>\n",
              "<p>6607 rows × 2 columns</p>\n",
              "</div>"
            ],
            "text/plain": [
              "                   word     score\n",
              "0                       -0.168379\n",
              "2                   i'm -0.023807\n",
              "6                  it's -0.103550\n",
              "8                   day -0.089533\n",
              "9                   got -0.109349\n",
              "...                 ...       ...\n",
              "13686         @anistorm -1.229415\n",
              "13688              pet. -1.684006\n",
              "13690       chidambaram -0.495094\n",
              "13691  @milliemagsaysay -5.939989\n",
              "13692        infection. -1.352647\n",
              "\n",
              "[6607 rows x 2 columns]"
            ]
          },
          "metadata": {
            "tags": []
          }
        },
        {
          "output_type": "display_data",
          "data": {
            "text/html": [
              "<div>\n",
              "<style scoped>\n",
              "    .dataframe tbody tr th:only-of-type {\n",
              "        vertical-align: middle;\n",
              "    }\n",
              "\n",
              "    .dataframe tbody tr th {\n",
              "        vertical-align: top;\n",
              "    }\n",
              "\n",
              "    .dataframe thead th {\n",
              "        text-align: right;\n",
              "    }\n",
              "</style>\n",
              "<table border=\"1\" class=\"dataframe\">\n",
              "  <thead>\n",
              "    <tr style=\"text-align: right;\">\n",
              "      <th></th>\n",
              "      <th>word</th>\n",
              "      <th>score</th>\n",
              "    </tr>\n",
              "  </thead>\n",
              "  <tbody>\n",
              "    <tr>\n",
              "      <th>1</th>\n",
              "      <td>just</td>\n",
              "      <td>0.067518</td>\n",
              "    </tr>\n",
              "    <tr>\n",
              "      <th>3</th>\n",
              "      <td>good</td>\n",
              "      <td>0.418421</td>\n",
              "    </tr>\n",
              "    <tr>\n",
              "      <th>4</th>\n",
              "      <td>like</td>\n",
              "      <td>0.006771</td>\n",
              "    </tr>\n",
              "    <tr>\n",
              "      <th>5</th>\n",
              "      <td>-</td>\n",
              "      <td>0.170402</td>\n",
              "    </tr>\n",
              "    <tr>\n",
              "      <th>7</th>\n",
              "      <td>going</td>\n",
              "      <td>0.022431</td>\n",
              "    </tr>\n",
              "    <tr>\n",
              "      <th>...</th>\n",
              "      <td>...</td>\n",
              "      <td>...</td>\n",
              "    </tr>\n",
              "    <tr>\n",
              "      <th>13682</th>\n",
              "      <td>that:</td>\n",
              "      <td>0.034066</td>\n",
              "    </tr>\n",
              "    <tr>\n",
              "      <th>13684</th>\n",
              "      <td>beach..</td>\n",
              "      <td>0.273839</td>\n",
              "    </tr>\n",
              "    <tr>\n",
              "      <th>13685</th>\n",
              "      <td>fc</td>\n",
              "      <td>0.049439</td>\n",
              "    </tr>\n",
              "    <tr>\n",
              "      <th>13687</th>\n",
              "      <td>matthews</td>\n",
              "      <td>0.014327</td>\n",
              "    </tr>\n",
              "    <tr>\n",
              "      <th>13689</th>\n",
              "      <td>@snarkattack</td>\n",
              "      <td>3.536066</td>\n",
              "    </tr>\n",
              "  </tbody>\n",
              "</table>\n",
              "<p>7080 rows × 2 columns</p>\n",
              "</div>"
            ],
            "text/plain": [
              "               word     score\n",
              "1              just  0.067518\n",
              "3              good  0.418421\n",
              "4              like  0.006771\n",
              "5                 -  0.170402\n",
              "7             going  0.022431\n",
              "...             ...       ...\n",
              "13682         that:  0.034066\n",
              "13684       beach..  0.273839\n",
              "13685            fc  0.049439\n",
              "13687      matthews  0.014327\n",
              "13689  @snarkattack  3.536066\n",
              "\n",
              "[7080 rows x 2 columns]"
            ]
          },
          "metadata": {
            "tags": []
          }
        }
      ]
    },
    {
      "cell_type": "markdown",
      "metadata": {
        "id": "GkLrNU4D-moB"
      },
      "source": [
        "Your explanation here:\n",
        "While some of the words can relate to positive or negative sentiments (e.g. \"saddened\", \"painfully\"), the majority of the words in the above dataframes do not look very positive or negative."
      ]
    },
    {
      "cell_type": "markdown",
      "metadata": {
        "id": "haHRzIUx-moB"
      },
      "source": [
        "##### Grading Feedback Cell"
      ]
    },
    {
      "cell_type": "markdown",
      "metadata": {
        "id": "GkxuN9Wh-moC"
      },
      "source": [
        "# Question 6a: (5 pts)\n",
        "The goal of this question is to try to improve the score from question 4 using a regularization grid search on a new pipeline named `lr_pipe_1`. lr_pipe_1 is the same as lr_pipe above but we would like you to create a new pipe for grading purposes only.  I'm not sure if it's possible to increase the score or not.  You will be graded on level of effort to increase the score in relation to other students in the class.  All of your grid search code should be inside the `if enable_grid` statement in the cell below.  The enable_grid boolean is set to true in a grading cell above.  If any of the grid search code executes outside of the if statement, you will not get full credit for the question.  We want the ability to turn off the grid search during grading.<br>"
      ]
    },
    {
      "cell_type": "code",
      "metadata": {
        "id": "9CEG-H2UCadV"
      },
      "source": [
        "import numpy as np"
      ],
      "execution_count": null,
      "outputs": []
    },
    {
      "cell_type": "code",
      "metadata": {
        "id": "N0eZPPUAIi9W"
      },
      "source": [
        "enable_grid = True"
      ],
      "execution_count": null,
      "outputs": []
    },
    {
      "cell_type": "code",
      "metadata": {
        "id": "EmJtNK9J-moC",
        "outputId": "71ae8f28-8e22-44f8-838a-6f1c251c8485",
        "colab": {
          "base_uri": "https://localhost:8080/",
          "height": 88
        }
      },
      "source": [
        "# your grid search (and only your grid search) code here\n",
        "from pyspark.ml.tuning import ParamGridBuilder\n",
        "\n",
        "lr_estimator = Pipeline(stages=[tweets_pre_proc_pipe, lr])\n",
        "\n",
        "if enable_grid:\n",
        "    # your grid search code here\n",
        "    grid = ParamGridBuilder().\\\n",
        "        addGrid(lr.regParam, [0., 0.01, 0.02]).\\\n",
        "        addGrid(lr.elasticNetParam, [0., 0.2, 0.4]).\\\n",
        "        build()\n",
        "    \n",
        "    all_models = []\n",
        "    for j in range(len(grid)):\n",
        "      lr_pipe_1 = lr_estimator.fit(train_df, grid[j])\n",
        "      all_models.append(lr_pipe_1)\n",
        "\n",
        "    all_auc = []\n",
        "    for m in all_models:\n",
        "      all_auc.append(evaluator.evaluate(m.transform(test_df)))\n",
        "    \n",
        "    best_model_idx = np.argmax(all_auc)\n",
        "    print(\"best model index =\", best_model_idx)\n",
        "    print(grid[best_model_idx])\n",
        "    print(all_auc[best_model_idx])\n",
        "\n",
        "    pass"
      ],
      "execution_count": null,
      "outputs": [
        {
          "output_type": "stream",
          "text": [
            "best model index = 4\n",
            "{Param(parent='LogisticRegression_e328183e6ab0', name='regParam', doc='regularization parameter (>= 0).'): 0.01, Param(parent='LogisticRegression_e328183e6ab0', name='elasticNetParam', doc='the ElasticNet mixing parameter, in range [0, 1]. For alpha = 0, the penalty is an L2 penalty. For alpha = 1, it is an L1 penalty.'): 0.2}\n",
            "0.8195032060417455\n"
          ],
          "name": "stdout"
        }
      ]
    },
    {
      "cell_type": "markdown",
      "metadata": {
        "id": "Dr19fUOy-moE"
      },
      "source": [
        "##### Grading feedback cell"
      ]
    },
    {
      "cell_type": "markdown",
      "metadata": {
        "id": "ghCVrR1l-moF"
      },
      "source": [
        "# Question 6b (5 pts)\n",
        "Build a new pipeline named `lr_pipe_2` which uses the optimized model parameters from the grid search in question 6a above (the best model).  Create 2 variables named alpha and lambda and assign to them the best alpha and lambda produced by the grid search by hard coding the values. Fit and transform lr_pipe_2.  Compare AUC scores between lr_pipe_2 with lr_pipe in question 4.  Create a pandas dataframe named `comapre_1_df` which encapsulates the comparison data.  comapre_1_df Shall have 2 columns: `model_name` and `auc_score`."
      ]
    },
    {
      "cell_type": "code",
      "metadata": {
        "id": "4juFFpaJ-moF"
      },
      "source": [
        "# your optimized model code here\n",
        "\n",
        "alpha = 0.2\n",
        "lamb = 0.01\n",
        "\n",
        "# lr_pipe_2 code here\n",
        "\n",
        "lr_2 = LogisticRegression().\\\n",
        "    setLabelCol('target').\\\n",
        "    setFeaturesCol('tfidf').\\\n",
        "    setRegParam(lamb).\\\n",
        "    setMaxIter(100).\\\n",
        "    setElasticNetParam(alpha)\n",
        "\n",
        "lr_pipe_2 = Pipeline(stages=[tweets_pre_proc_pipe, lr_2]).fit(train_df)\n",
        "\n",
        "lr_2_auc = evaluator.evaluate(lr_pipe_2.transform(test_df))\n",
        "lr_auc = evaluator.evaluate(lr_pipeline.transform(test_df))\n",
        "\n",
        "model_name = ['lr_default','lr_opt']\n",
        "auc_score = [lr_auc, lr_2_auc]\n",
        "compare_1_df = pd.DataFrame(list(zip(model_name, auc_score)), columns =['model_name', 'auc_score'])\n"
      ],
      "execution_count": null,
      "outputs": []
    },
    {
      "cell_type": "code",
      "metadata": {
        "id": "E9EUJUhc-moH",
        "outputId": "9979b328-6ff7-4afd-b9e1-edd74ff6be58",
        "colab": {
          "base_uri": "https://localhost:8080/",
          "height": 111
        }
      },
      "source": [
        "# grading cell - do not modify\n",
        "display(compare_1_df)"
      ],
      "execution_count": null,
      "outputs": [
        {
          "output_type": "display_data",
          "data": {
            "text/html": [
              "<div>\n",
              "<style scoped>\n",
              "    .dataframe tbody tr th:only-of-type {\n",
              "        vertical-align: middle;\n",
              "    }\n",
              "\n",
              "    .dataframe tbody tr th {\n",
              "        vertical-align: top;\n",
              "    }\n",
              "\n",
              "    .dataframe thead th {\n",
              "        text-align: right;\n",
              "    }\n",
              "</style>\n",
              "<table border=\"1\" class=\"dataframe\">\n",
              "  <thead>\n",
              "    <tr style=\"text-align: right;\">\n",
              "      <th></th>\n",
              "      <th>model_name</th>\n",
              "      <th>auc_score</th>\n",
              "    </tr>\n",
              "  </thead>\n",
              "  <tbody>\n",
              "    <tr>\n",
              "      <th>0</th>\n",
              "      <td>lr_default</td>\n",
              "      <td>0.745187</td>\n",
              "    </tr>\n",
              "    <tr>\n",
              "      <th>1</th>\n",
              "      <td>lr_opt</td>\n",
              "      <td>0.819501</td>\n",
              "    </tr>\n",
              "  </tbody>\n",
              "</table>\n",
              "</div>"
            ],
            "text/plain": [
              "   model_name  auc_score\n",
              "0  lr_default   0.745187\n",
              "1      lr_opt   0.819501"
            ]
          },
          "metadata": {
            "tags": []
          }
        }
      ]
    },
    {
      "cell_type": "markdown",
      "metadata": {
        "id": "VY4SWTe--moJ"
      },
      "source": [
        "##### Grading Feedback Cell"
      ]
    },
    {
      "cell_type": "markdown",
      "metadata": {
        "id": "XJD7NkM--moJ"
      },
      "source": [
        "# Question 7 (10 pts)\n",
        "Perform inference on lr_pipe_2.  Write code to report how many words were eliminated from the best model in question 6b above (if any) as compared to the model in question 4 above.  Make sure your output is easy for the graders to find and interpret."
      ]
    },
    {
      "cell_type": "code",
      "metadata": {
        "id": "HpuK7i8j-moJ",
        "outputId": "0f45c31e-8357-4a82-987c-5af379aa52a2",
        "colab": {
          "base_uri": "https://localhost:8080/",
          "height": 34
        }
      },
      "source": [
        "# your code here\n",
        "\n",
        "lr_2_weights = lr_pipe_2.stages[-1].coefficients.toArray()\n",
        "lr_2_coeffs_df = pd.DataFrame({'word': vocabulary, 'weight': lr_2_weights})\n",
        "\n",
        "num_no_weight_words_2 = len(lr_2_coeffs_df.query('weight == 0.0'))\n",
        "num_no_weight_words_2"
      ],
      "execution_count": null,
      "outputs": [
        {
          "output_type": "execute_result",
          "data": {
            "text/plain": [
              "9337"
            ]
          },
          "metadata": {
            "tags": []
          },
          "execution_count": 21
        }
      ]
    },
    {
      "cell_type": "code",
      "metadata": {
        "id": "QbvET33rpSH5",
        "outputId": "b69357d7-2c28-4411-d067-ba0afef1c1cd",
        "colab": {
          "base_uri": "https://localhost:8080/",
          "height": 34
        }
      },
      "source": [
        "num_no_weight_words = len(coeffs_df.query('score == 0.0'))\n",
        "\n",
        "print(num_no_weight_words_2-num_no_weight_words, \"more words are eliminated from the optimized model than the default model\")"
      ],
      "execution_count": null,
      "outputs": [
        {
          "output_type": "stream",
          "text": [
            "9331 more words are eliminated from the optimized model than the default model\n"
          ],
          "name": "stdout"
        }
      ]
    },
    {
      "cell_type": "markdown",
      "metadata": {
        "id": "sLuODpWO-moL"
      },
      "source": [
        "##### Grading Feedback Cell"
      ]
    },
    {
      "cell_type": "markdown",
      "metadata": {
        "id": "9__VLLTs-moM"
      },
      "source": [
        "# Question 8 (10 pts)\n",
        "Perform the same inference analysis that you did in question 5 but name the data frames `lr_pipe_df_neg_1` and `lr_pipe_df_pos_1`.  Compare the word importance results with the results in question 5."
      ]
    },
    {
      "cell_type": "code",
      "metadata": {
        "id": "x3o1BkGg-moM",
        "outputId": "1a34ca33-c8b9-4e3c-dd94-18617dc13ca7",
        "colab": {
          "base_uri": "https://localhost:8080/",
          "height": 359
        }
      },
      "source": [
        "# your code here\n",
        "lr_pipe_df_neg_1 = lr_2_coeffs_df[lr_2_coeffs_df.weight < 0]\n",
        "lr_pipe_df_pos_1 = lr_2_coeffs_df[lr_2_coeffs_df.weight > 0]\n",
        "\n",
        "lr_pipe_df_neg_1.sort_values('weight').head(10)"
      ],
      "execution_count": null,
      "outputs": [
        {
          "output_type": "execute_result",
          "data": {
            "text/html": [
              "<div>\n",
              "<style scoped>\n",
              "    .dataframe tbody tr th:only-of-type {\n",
              "        vertical-align: middle;\n",
              "    }\n",
              "\n",
              "    .dataframe tbody tr th {\n",
              "        vertical-align: top;\n",
              "    }\n",
              "\n",
              "    .dataframe thead th {\n",
              "        text-align: right;\n",
              "    }\n",
              "</style>\n",
              "<table border=\"1\" class=\"dataframe\">\n",
              "  <thead>\n",
              "    <tr style=\"text-align: right;\">\n",
              "      <th></th>\n",
              "      <th>word</th>\n",
              "      <th>weight</th>\n",
              "    </tr>\n",
              "  </thead>\n",
              "  <tbody>\n",
              "    <tr>\n",
              "      <th>55</th>\n",
              "      <td>sad</td>\n",
              "      <td>-0.508234</td>\n",
              "    </tr>\n",
              "    <tr>\n",
              "      <th>169</th>\n",
              "      <td>poor</td>\n",
              "      <td>-0.376475</td>\n",
              "    </tr>\n",
              "    <tr>\n",
              "      <th>35</th>\n",
              "      <td>miss</td>\n",
              "      <td>-0.367589</td>\n",
              "    </tr>\n",
              "    <tr>\n",
              "      <th>171</th>\n",
              "      <td>missing</td>\n",
              "      <td>-0.354671</td>\n",
              "    </tr>\n",
              "    <tr>\n",
              "      <th>37</th>\n",
              "      <td>wish</td>\n",
              "      <td>-0.350972</td>\n",
              "    </tr>\n",
              "    <tr>\n",
              "      <th>95</th>\n",
              "      <td>sick</td>\n",
              "      <td>-0.339820</td>\n",
              "    </tr>\n",
              "    <tr>\n",
              "      <th>557</th>\n",
              "      <td>lonely</td>\n",
              "      <td>-0.336134</td>\n",
              "    </tr>\n",
              "    <tr>\n",
              "      <th>300</th>\n",
              "      <td>hurts</td>\n",
              "      <td>-0.331137</td>\n",
              "    </tr>\n",
              "    <tr>\n",
              "      <th>573</th>\n",
              "      <td>sad.</td>\n",
              "      <td>-0.328362</td>\n",
              "    </tr>\n",
              "    <tr>\n",
              "      <th>258</th>\n",
              "      <td>sucks</td>\n",
              "      <td>-0.320605</td>\n",
              "    </tr>\n",
              "  </tbody>\n",
              "</table>\n",
              "</div>"
            ],
            "text/plain": [
              "        word    weight\n",
              "55       sad -0.508234\n",
              "169     poor -0.376475\n",
              "35      miss -0.367589\n",
              "171  missing -0.354671\n",
              "37      wish -0.350972\n",
              "95      sick -0.339820\n",
              "557   lonely -0.336134\n",
              "300    hurts -0.331137\n",
              "573     sad. -0.328362\n",
              "258    sucks -0.320605"
            ]
          },
          "metadata": {
            "tags": []
          },
          "execution_count": 23
        }
      ]
    },
    {
      "cell_type": "code",
      "metadata": {
        "id": "68mDhSkgIvdM",
        "outputId": "001135de-ed40-4c15-dc78-8bd57662909f",
        "colab": {
          "base_uri": "https://localhost:8080/",
          "height": 359
        }
      },
      "source": [
        "lr_pipe_df_pos_1.sort_values('weight', ascending=False).head(10)"
      ],
      "execution_count": null,
      "outputs": [
        {
          "output_type": "execute_result",
          "data": {
            "text/html": [
              "<div>\n",
              "<style scoped>\n",
              "    .dataframe tbody tr th:only-of-type {\n",
              "        vertical-align: middle;\n",
              "    }\n",
              "\n",
              "    .dataframe tbody tr th {\n",
              "        vertical-align: top;\n",
              "    }\n",
              "\n",
              "    .dataframe thead th {\n",
              "        text-align: right;\n",
              "    }\n",
              "</style>\n",
              "<table border=\"1\" class=\"dataframe\">\n",
              "  <thead>\n",
              "    <tr style=\"text-align: right;\">\n",
              "      <th></th>\n",
              "      <th>word</th>\n",
              "      <th>weight</th>\n",
              "    </tr>\n",
              "  </thead>\n",
              "  <tbody>\n",
              "    <tr>\n",
              "      <th>29</th>\n",
              "      <td>thanks</td>\n",
              "      <td>0.337036</td>\n",
              "    </tr>\n",
              "    <tr>\n",
              "      <th>69</th>\n",
              "      <td>thank</td>\n",
              "      <td>0.296992</td>\n",
              "    </tr>\n",
              "    <tr>\n",
              "      <th>230</th>\n",
              "      <td>welcome</td>\n",
              "      <td>0.285944</td>\n",
              "    </tr>\n",
              "    <tr>\n",
              "      <th>12576</th>\n",
              "      <td>weights</td>\n",
              "      <td>0.283520</td>\n",
              "    </tr>\n",
              "    <tr>\n",
              "      <th>10970</th>\n",
              "      <td>owners</td>\n",
              "      <td>0.268473</td>\n",
              "    </tr>\n",
              "    <tr>\n",
              "      <th>3</th>\n",
              "      <td>good</td>\n",
              "      <td>0.256038</td>\n",
              "    </tr>\n",
              "    <tr>\n",
              "      <th>1059</th>\n",
              "      <td>proud</td>\n",
              "      <td>0.242018</td>\n",
              "    </tr>\n",
              "    <tr>\n",
              "      <th>7092</th>\n",
              "      <td>hob</td>\n",
              "      <td>0.239991</td>\n",
              "    </tr>\n",
              "    <tr>\n",
              "      <th>46</th>\n",
              "      <td>happy</td>\n",
              "      <td>0.239530</td>\n",
              "    </tr>\n",
              "    <tr>\n",
              "      <th>4788</th>\n",
              "      <td>peaceful</td>\n",
              "      <td>0.234488</td>\n",
              "    </tr>\n",
              "  </tbody>\n",
              "</table>\n",
              "</div>"
            ],
            "text/plain": [
              "           word    weight\n",
              "29       thanks  0.337036\n",
              "69        thank  0.296992\n",
              "230     welcome  0.285944\n",
              "12576   weights  0.283520\n",
              "10970    owners  0.268473\n",
              "3          good  0.256038\n",
              "1059      proud  0.242018\n",
              "7092        hob  0.239991\n",
              "46        happy  0.239530\n",
              "4788   peaceful  0.234488"
            ]
          },
          "metadata": {
            "tags": []
          },
          "execution_count": 24
        }
      ]
    },
    {
      "cell_type": "code",
      "metadata": {
        "id": "vZxPitJ5-moO",
        "outputId": "74a7e693-05b3-452d-98cf-f928a11f153f",
        "colab": {
          "base_uri": "https://localhost:8080/"
        }
      },
      "source": [
        "# grading cell - do not modify\n",
        "display(lr_pipe_df_neg_1)\n",
        "display(lr_pipe_df_pos_1)"
      ],
      "execution_count": null,
      "outputs": [
        {
          "output_type": "display_data",
          "data": {
            "text/html": [
              "<div>\n",
              "<style scoped>\n",
              "    .dataframe tbody tr th:only-of-type {\n",
              "        vertical-align: middle;\n",
              "    }\n",
              "\n",
              "    .dataframe tbody tr th {\n",
              "        vertical-align: top;\n",
              "    }\n",
              "\n",
              "    .dataframe thead th {\n",
              "        text-align: right;\n",
              "    }\n",
              "</style>\n",
              "<table border=\"1\" class=\"dataframe\">\n",
              "  <thead>\n",
              "    <tr style=\"text-align: right;\">\n",
              "      <th></th>\n",
              "      <th>word</th>\n",
              "      <th>weight</th>\n",
              "    </tr>\n",
              "  </thead>\n",
              "  <tbody>\n",
              "    <tr>\n",
              "      <th>0</th>\n",
              "      <td></td>\n",
              "      <td>-0.061240</td>\n",
              "    </tr>\n",
              "    <tr>\n",
              "      <th>2</th>\n",
              "      <td>i'm</td>\n",
              "      <td>-0.007866</td>\n",
              "    </tr>\n",
              "    <tr>\n",
              "      <th>6</th>\n",
              "      <td>it's</td>\n",
              "      <td>-0.034158</td>\n",
              "    </tr>\n",
              "    <tr>\n",
              "      <th>8</th>\n",
              "      <td>day</td>\n",
              "      <td>-0.038860</td>\n",
              "    </tr>\n",
              "    <tr>\n",
              "      <th>9</th>\n",
              "      <td>got</td>\n",
              "      <td>-0.058676</td>\n",
              "    </tr>\n",
              "    <tr>\n",
              "      <th>...</th>\n",
              "      <td>...</td>\n",
              "      <td>...</td>\n",
              "    </tr>\n",
              "    <tr>\n",
              "      <th>13681</th>\n",
              "      <td>ebay.</td>\n",
              "      <td>-0.059349</td>\n",
              "    </tr>\n",
              "    <tr>\n",
              "      <th>13686</th>\n",
              "      <td>@anistorm</td>\n",
              "      <td>-0.063927</td>\n",
              "    </tr>\n",
              "    <tr>\n",
              "      <th>13688</th>\n",
              "      <td>pet.</td>\n",
              "      <td>-0.097605</td>\n",
              "    </tr>\n",
              "    <tr>\n",
              "      <th>13691</th>\n",
              "      <td>@milliemagsaysay</td>\n",
              "      <td>-0.146155</td>\n",
              "    </tr>\n",
              "    <tr>\n",
              "      <th>13692</th>\n",
              "      <td>infection.</td>\n",
              "      <td>-0.026775</td>\n",
              "    </tr>\n",
              "  </tbody>\n",
              "</table>\n",
              "<p>2163 rows × 2 columns</p>\n",
              "</div>"
            ],
            "text/plain": [
              "                   word    weight\n",
              "0                       -0.061240\n",
              "2                   i'm -0.007866\n",
              "6                  it's -0.034158\n",
              "8                   day -0.038860\n",
              "9                   got -0.058676\n",
              "...                 ...       ...\n",
              "13681             ebay. -0.059349\n",
              "13686         @anistorm -0.063927\n",
              "13688              pet. -0.097605\n",
              "13691  @milliemagsaysay -0.146155\n",
              "13692        infection. -0.026775\n",
              "\n",
              "[2163 rows x 2 columns]"
            ]
          },
          "metadata": {
            "tags": []
          }
        },
        {
          "output_type": "display_data",
          "data": {
            "text/html": [
              "<div>\n",
              "<style scoped>\n",
              "    .dataframe tbody tr th:only-of-type {\n",
              "        vertical-align: middle;\n",
              "    }\n",
              "\n",
              "    .dataframe tbody tr th {\n",
              "        vertical-align: top;\n",
              "    }\n",
              "\n",
              "    .dataframe thead th {\n",
              "        text-align: right;\n",
              "    }\n",
              "</style>\n",
              "<table border=\"1\" class=\"dataframe\">\n",
              "  <thead>\n",
              "    <tr style=\"text-align: right;\">\n",
              "      <th></th>\n",
              "      <th>word</th>\n",
              "      <th>weight</th>\n",
              "    </tr>\n",
              "  </thead>\n",
              "  <tbody>\n",
              "    <tr>\n",
              "      <th>1</th>\n",
              "      <td>just</td>\n",
              "      <td>0.018627</td>\n",
              "    </tr>\n",
              "    <tr>\n",
              "      <th>3</th>\n",
              "      <td>good</td>\n",
              "      <td>0.256038</td>\n",
              "    </tr>\n",
              "    <tr>\n",
              "      <th>5</th>\n",
              "      <td>-</td>\n",
              "      <td>0.111182</td>\n",
              "    </tr>\n",
              "    <tr>\n",
              "      <th>11</th>\n",
              "      <td>love</td>\n",
              "      <td>0.228144</td>\n",
              "    </tr>\n",
              "    <tr>\n",
              "      <th>18</th>\n",
              "      <td>new</td>\n",
              "      <td>0.118655</td>\n",
              "    </tr>\n",
              "    <tr>\n",
              "      <th>...</th>\n",
              "      <td>...</td>\n",
              "      <td>...</td>\n",
              "    </tr>\n",
              "    <tr>\n",
              "      <th>13662</th>\n",
              "      <td>sequel</td>\n",
              "      <td>0.038540</td>\n",
              "    </tr>\n",
              "    <tr>\n",
              "      <th>13663</th>\n",
              "      <td>restaurant.</td>\n",
              "      <td>0.017350</td>\n",
              "    </tr>\n",
              "    <tr>\n",
              "      <th>13669</th>\n",
              "      <td>cracker</td>\n",
              "      <td>0.045965</td>\n",
              "    </tr>\n",
              "    <tr>\n",
              "      <th>13679</th>\n",
              "      <td>#cloudforce</td>\n",
              "      <td>0.014400</td>\n",
              "    </tr>\n",
              "    <tr>\n",
              "      <th>13689</th>\n",
              "      <td>@snarkattack</td>\n",
              "      <td>0.090131</td>\n",
              "    </tr>\n",
              "  </tbody>\n",
              "</table>\n",
              "<p>2193 rows × 2 columns</p>\n",
              "</div>"
            ],
            "text/plain": [
              "               word    weight\n",
              "1              just  0.018627\n",
              "3              good  0.256038\n",
              "5                 -  0.111182\n",
              "11             love  0.228144\n",
              "18              new  0.118655\n",
              "...             ...       ...\n",
              "13662        sequel  0.038540\n",
              "13663   restaurant.  0.017350\n",
              "13669       cracker  0.045965\n",
              "13679   #cloudforce  0.014400\n",
              "13689  @snarkattack  0.090131\n",
              "\n",
              "[2193 rows x 2 columns]"
            ]
          },
          "metadata": {
            "tags": []
          }
        }
      ]
    },
    {
      "cell_type": "markdown",
      "metadata": {
        "id": "QEwZQ4Lj-moP"
      },
      "source": [
        "##### Grading Feedback Cell"
      ]
    },
    {
      "cell_type": "markdown",
      "metadata": {
        "id": "Cq2caM9z-moQ"
      },
      "source": [
        "Your explanation here:\n",
        "The most postive and negative words given b the optimized model makes more sense. Most of the words given do agree with what humans intepret as positive or negative words used to express sentiments. It is also worth noticing that the weights of the most positive and negative words are much smaller (to be more precise, closer to 0) than what's given by the default model."
      ]
    },
    {
      "cell_type": "markdown",
      "metadata": {
        "id": "EWbOzvl4-moQ"
      },
      "source": [
        "##### Grading Feedback Cell"
      ]
    },
    {
      "cell_type": "markdown",
      "metadata": {
        "id": "K_XHb8og-moR"
      },
      "source": [
        "# Question 9 (10 pts)\n",
        "Create a receiver operating characteristic (ROC) plot for the best model in question 6.  Briefly describe in words the high level steps needed to build a ROC curve as outlined in lecture.  Convince me you understand the high level steps needed to make a ROC curve."
      ]
    },
    {
      "cell_type": "code",
      "metadata": {
        "id": "Xi5fBs8h-moR",
        "outputId": "9ee79afc-a616-4877-8aad-fadd5e900f10",
        "colab": {
          "base_uri": "https://localhost:8080/",
          "height": 334
        }
      },
      "source": [
        "# your code here\n",
        "import matplotlib.pyplot as plt\n",
        "\n",
        "plt.figure(figsize=(5,5))\n",
        "plt.plot([0, 1], [0, 1], 'r--')\n",
        "plt.plot(lr_pipe_2.stages[-1].summary.roc.select('FPR').collect(),\n",
        "         lr_pipe_2.stages[-1].summary.roc.select('TPR').collect())\n",
        "plt.xlabel('FPR')\n",
        "plt.ylabel('TPR')\n",
        "plt.show()"
      ],
      "execution_count": null,
      "outputs": [
        {
          "output_type": "display_data",
          "data": {
            "image/png": "[encoded data removed]",
            "text/plain": [
              "<Figure size 360x360 with 1 Axes>"
            ]
          },
          "metadata": {
            "tags": [],
            "needs_background": "light"
          }
        }
      ]
    },
    {
      "cell_type": "markdown",
      "metadata": {
        "id": "FVS-sjOR-moT"
      },
      "source": [
        "Your explanation here:\n",
        "The roc curve is plotted using the true positive rates (tpr) v.s. the false positive rate (fpr) for different cutoff points. Both tpr and fpr can be derived from the confusion matrix. After we obtain the tpr and fpr for each cutoff point, we can plot tpr vs fpr and connect the scatter plot with a smooth curve, and that will become our roc curve."
      ]
    },
    {
      "cell_type": "markdown",
      "metadata": {
        "id": "ytPsyhoY-moT"
      },
      "source": [
        "##### Grading Feedback Cell"
      ]
    },
    {
      "cell_type": "markdown",
      "metadata": {
        "id": "Xa-1_EHM-moT"
      },
      "source": [
        "# Question 10 (10 pts)\n",
        "Learn about [precision/recall](https://en.wikipedia.org/wiki/Precision_and_recall) curves. Using the logistic regression summary object contained in the linear regression object within lr_pipe_2, create a precision recall plot. Similar to the `roc` object which is available in the logistic regression summary, there is a `pr` object which can be used to help create a precision / recall curve.  Note that the precision recall curve is built using the same high level methodology as the ROC curve, but using different metrics calculated from the confusion matrix.  If you understand how a ROC curve is built, you understand how a precision / recall curve is built.  Compare and contrast the differences between precision / recall and ROC curves.  What axis is common and what axis is different between the 2 curves?"
      ]
    },
    {
      "cell_type": "code",
      "metadata": {
        "id": "ciJncslI-moU",
        "outputId": "22e66935-25b8-4e49-fac8-5891339e52bd",
        "colab": {
          "base_uri": "https://localhost:8080/",
          "height": 334
        }
      },
      "source": [
        "# your code here\n",
        "plt.figure(figsize=(5,5))\n",
        "\n",
        "plt.plot(lr_pipe_2.stages[-1].summary.pr.select('recall').collect(),\n",
        "         lr_pipe_2.stages[-1].summary.pr.select('precision').collect())\n",
        "plt.xlabel('recall')\n",
        "plt.ylabel('precision')\n",
        "plt.show()"
      ],
      "execution_count": null,
      "outputs": [
        {
          "output_type": "display_data",
          "data": {
            "image/png": "[encoded data removed]",
            "text/plain": [
              "<Figure size 360x360 with 1 Axes>"
            ]
          },
          "metadata": {
            "tags": [],
            "needs_background": "light"
          }
        }
      ]
    },
    {
      "cell_type": "markdown",
      "metadata": {
        "id": "U_-llXkl-moV"
      },
      "source": [
        "Your explanation here:\n",
        "As stated in the name, the precision/recall curve is calculated by plotting precision v.s. recall for different cutoff points. Precision is calculated as TP/(TP+FP), and Recall is TP/(TP+FN) which is the same as the true positive rate. The PRC is usually used when the data is imbalanced with the majority of data points lie in the negative class. Because PRC does not include true negative in any part of the calculation."
      ]
    },
    {
      "cell_type": "markdown",
      "metadata": {
        "id": "lOb_dsxS-moW"
      },
      "source": [
        "##### Grading Feedback Cell"
      ]
    }
  ]
}