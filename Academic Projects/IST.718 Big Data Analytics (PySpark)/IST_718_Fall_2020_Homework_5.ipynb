{
  "nbformat": 4,
  "nbformat_minor": 0,
  "metadata": {
    "colab": {
      "name": "IST_718_Fall_2020_Homework_5.ipynb",
      "provenance": [],
      "collapsed_sections": []
    },
    "kernelspec": {
      "name": "python3",
      "display_name": "Python 3"
    }
  },
  "cells": [
    {
      "cell_type": "markdown",
      "metadata": {
        "id": "RFYzZVGqwrDN"
      },
      "source": [
        "##### Grading Feedback Cell\n"
      ]
    },
    {
      "cell_type": "markdown",
      "metadata": {
        "id": "8uYE_aKFvp1N"
      },
      "source": [
        "# IST 718: Big Data Analytics\n",
        "\n",
        "- Professor: Willard Williamson <wewillia@syr.edu>\n",
        "- Faculty Assistant: Vidushi Mishra <vmishr01@syr.edu>\n",
        "- Faculty Assistant: Pranav Kottoli Radhakrishna <pkottoli@syr.edu>\n",
        "## General instructions:\n",
        "\n",
        "- You are welcome to discuss the problems with your classmates but __you are not allowed to copy any part of your answers from your classmates.  Short code snippets are allowed from the internet.  Code from the class text books or class provided code can be copied in its entirety.__\n",
        "- Do not modify cells marked as grading cells or marked as do not modify.\n",
        "- Before submitting your work, remember to check for run time errors with the following procedure:\n",
        "`Runtime `$\\rightarrow$ Factory reset runtime followed by Runtime $\\rightarrow$ Run All.  All runtime errors will result in a minimum penalty of half off.\n",
        "- Google Colab is the official class runtime environment so you should test your code on Colab before submission.\n",
        "- All plots shall include descriptive title and axis labels.  Plot legends shall be included where possible.  Unless stated otherwise, plots can be made using any Python plotting package.  It is understood that spark data structures must be converted to something like numpy or pandas prior to making plots.  All required mathematical operations, filtering, selection, etc., required by a homework question shall be performed in spark prior to converting to numpy or pandas.\n",
        "- Grading feedback cells are there for graders to provide feedback to students.  Don't change or remove grading feedback cells.\n",
        "- Don't add or remove files from your git repo.\n",
        "- Do not change file names in your repo.  This also means don't change the title of the ipython notebook.\n",
        "- You are free to add additional code cells around the cells marked `your code here`.\n",
        "- We reserve the right to take points off for operations that are extremely inefficient or \"heavy weight\".  This is a big data class and extremely inefficient operations make a big difference when scaling up to large data sets.  For example, the spark dataframe collect() method is a very heavy weight operation and should not be used unless it there is a real need for it.  An example where collect() might be needed is to get ready to make a plot after filtering a spark dataframe.\n",
        "- import * is not allowed because it is considered a very bad coding practice and in some cases can result in a significant delay (which slows down the grading process) in loading imports.  For example, the statement `from sympy import *` is not allowed.  You must import the specific packages that you need. \n",
        "- The graders reserve the right to deduct points for subjective things we see with your code.  For example, if we ask you to create a pandas data frame to display values from an investigation and you hard code the values, we will take points off for that.  This is only one of many different things we could find in reviewing your code.  In general, write your code like you are submitting it for a code peer review in industry.  \n",
        "- Level of effort is part of our subjective grading.  For example, in cases where we ask for a more open ended investigation, some students put in significant effort and some students do the minimum possible to meet requirements.  In these cases, we may take points off for students who did not put in much effort as compared to students who put in a lot of effort.  We feel that the students who did a better job deserve a better grade.  We reserve the right to invoke level of effort grading at any time.\n",
        "- Only use spark, spark machine learning, spark data frames, RDD's, and map reduce to solve all problems unless instructed otherwise.\n",
        "- Your notebook must run from start to finish without requiring manual input by the graders.  For example, do not mount your personal Google drive in your notebook as this will require graders to perform manual steps.  In short, your notebook should run from start to finish with no runtime errors and no need for graders to perform any manual steps.\n"
      ]
    },
    {
      "cell_type": "markdown",
      "metadata": {
        "id": "KEjZ4Xye6uLh"
      },
      "source": [
        "## Note that this notebook is expected to run in the Google Colab environment.  All grading for this assignment will take place exclusively in Google Colab."
      ]
    },
    {
      "cell_type": "markdown",
      "metadata": {
        "id": "91Et1X5KwBuE"
      },
      "source": [
        "The following cell reads the data files needed for this homework from github and stores it on your local colab instance.\n"
      ]
    },
    {
      "cell_type": "code",
      "metadata": {
        "id": "8NFmfL6uv56m",
        "outputId": "7af87001-06b1-4d4d-8620-8661dbe83222",
        "colab": {
          "base_uri": "https://localhost:8080/"
        }
      },
      "source": [
        "%%bash\n",
        "# Do not change or modify this file\n",
        "# Need to install pyspark\n",
        "# if pyspark is already installed, will print a message indicating pyspark already isntalled\n",
        "pip install pyspark\n",
        "\n",
        "# Download the data files from github\n",
        "# If the data file does not exist in the colab environment\n",
        "if [[ ! -f ./quotes_by_char.csv ]]; then \n",
        "   # download the data file from github and save it in this colab environment instance\n",
        "   wget https://raw.githubusercontent.com/wewilli1/ist718_data/master/quotes_by_char.csv  \n",
        "fi"
      ],
      "execution_count": null,
      "outputs": [
        {
          "output_type": "stream",
          "text": [
            "Collecting pyspark\n",
            "  Downloading https://files.pythonhosted.org/packages/f0/26/198fc8c0b98580f617cb03cb298c6056587b8f0447e20fa40c5b634ced77/pyspark-3.0.1.tar.gz (204.2MB)\n",
            "Collecting py4j==0.10.9\n",
            "  Downloading https://files.pythonhosted.org/packages/9e/b6/6a4fb90cd235dc8e265a6a2067f2a2c99f0d91787f06aca4bcf7c23f3f80/py4j-0.10.9-py2.py3-none-any.whl (198kB)\n",
            "Building wheels for collected packages: pyspark\n",
            "  Building wheel for pyspark (setup.py): started\n",
            "  Building wheel for pyspark (setup.py): finished with status 'done'\n",
            "  Created wheel for pyspark: filename=pyspark-3.0.1-py2.py3-none-any.whl size=204612243 sha256=0b1cd10dab67b9a9ac31c520b300c8a3ecc5bed1158adc45239678b2edc110be\n",
            "  Stored in directory: /root/.cache/pip/wheels/5e/bd/07/031766ca628adec8435bb40f0bd83bb676ce65ff4007f8e73f\n",
            "Successfully built pyspark\n",
            "Installing collected packages: py4j, pyspark\n",
            "Successfully installed py4j-0.10.9 pyspark-3.0.1\n"
          ],
          "name": "stdout"
        },
        {
          "output_type": "stream",
          "text": [
            "--2020-11-09 00:57:30--  https://raw.githubusercontent.com/wewilli1/ist718_data/master/quotes_by_char.csv\n",
            "Resolving raw.githubusercontent.com (raw.githubusercontent.com)... 151.101.0.133, 151.101.64.133, 151.101.128.133, ...\n",
            "Connecting to raw.githubusercontent.com (raw.githubusercontent.com)|151.101.0.133|:443... connected.\n",
            "HTTP request sent, awaiting response... 200 OK\n",
            "Length: 4352265 (4.2M) [text/plain]\n",
            "Saving to: ‘quotes_by_char.csv’\n",
            "\n",
            "     0K .......... .......... .......... .......... ..........  1% 1.90M 2s\n",
            "    50K .......... .......... .......... .......... ..........  2% 4.06M 2s\n",
            "   100K .......... .......... .......... .......... ..........  3% 12.2M 1s\n",
            "   150K .......... .......... .......... .......... ..........  4% 14.5M 1s\n",
            "   200K .......... .......... .......... .......... ..........  5% 7.30M 1s\n",
            "   250K .......... .......... .......... .......... ..........  7% 18.2M 1s\n",
            "   300K .......... .......... .......... .......... ..........  8% 24.3M 1s\n",
            "   350K .......... .......... .......... .......... ..........  9% 7.68M 1s\n",
            "   400K .......... .......... .......... .......... .......... 10% 19.3M 1s\n",
            "   450K .......... .......... .......... .......... .......... 11% 16.4M 1s\n",
            "   500K .......... .......... .......... .......... .......... 12% 15.9M 0s\n",
            "   550K .......... .......... .......... .......... .......... 14% 10.9M 0s\n",
            "   600K .......... .......... .......... .......... .......... 15% 18.8M 0s\n",
            "   650K .......... .......... .......... .......... .......... 16% 16.1M 0s\n",
            "   700K .......... .......... .......... .......... .......... 17% 18.2M 0s\n",
            "   750K .......... .......... .......... .......... .......... 18% 10.9M 0s\n",
            "   800K .......... .......... .......... .......... .......... 19% 23.6M 0s\n",
            "   850K .......... .......... .......... .......... .......... 21% 15.7M 0s\n",
            "   900K .......... .......... .......... .......... .......... 22% 23.7M 0s\n",
            "   950K .......... .......... .......... .......... .......... 23% 8.81M 0s\n",
            "  1000K .......... .......... .......... .......... .......... 24% 25.8M 0s\n",
            "  1050K .......... .......... .......... .......... .......... 25% 20.3M 0s\n",
            "  1100K .......... .......... .......... .......... .......... 27% 17.4M 0s\n",
            "  1150K .......... .......... .......... .......... .......... 28% 9.23M 0s\n",
            "  1200K .......... .......... .......... .......... .......... 29% 29.4M 0s\n",
            "  1250K .......... .......... .......... .......... .......... 30% 24.4M 0s\n",
            "  1300K .......... .......... .......... .......... .......... 31% 24.4M 0s\n",
            "  1350K .......... .......... .......... .......... .......... 32% 16.6M 0s\n",
            "  1400K .......... .......... .......... .......... .......... 34% 9.73M 0s\n",
            "  1450K .......... .......... .......... .......... .......... 35% 26.2M 0s\n",
            "  1500K .......... .......... .......... .......... .......... 36% 24.3M 0s\n",
            "  1550K .......... .......... .......... .......... .......... 37% 27.1M 0s\n",
            "  1600K .......... .......... .......... .......... .......... 38% 20.3M 0s\n",
            "  1650K .......... .......... .......... .......... .......... 39% 13.9M 0s\n",
            "  1700K .......... .......... .......... .......... .......... 41% 23.5M 0s\n",
            "  1750K .......... .......... .......... .......... .......... 42% 28.7M 0s\n",
            "  1800K .......... .......... .......... .......... .......... 43% 15.7M 0s\n",
            "  1850K .......... .......... .......... .......... .......... 44% 24.2M 0s\n",
            "  1900K .......... .......... .......... .......... .......... 45% 13.4M 0s\n",
            "  1950K .......... .......... .......... .......... .......... 47% 22.7M 0s\n",
            "  2000K .......... .......... .......... .......... .......... 48% 24.7M 0s\n",
            "  2050K .......... .......... .......... .......... .......... 49% 15.8M 0s\n",
            "  2100K .......... .......... .......... .......... .......... 50% 34.1M 0s\n",
            "  2150K .......... .......... .......... .......... .......... 51% 38.9M 0s\n",
            "  2200K .......... .......... .......... .......... .......... 52% 12.3M 0s\n",
            "  2250K .......... .......... .......... .......... .......... 54% 16.7M 0s\n",
            "  2300K .......... .......... .......... .......... .......... 55% 39.4M 0s\n",
            "  2350K .......... .......... .......... .......... .......... 56% 12.3M 0s\n",
            "  2400K .......... .......... .......... .......... .......... 57% 84.1M 0s\n",
            "  2450K .......... .......... .......... .......... .......... 58% 19.6M 0s\n",
            "  2500K .......... .......... .......... .......... .......... 59% 38.0M 0s\n",
            "  2550K .......... .......... .......... .......... .......... 61% 15.5M 0s\n",
            "  2600K .......... .......... .......... .......... .......... 62% 30.0M 0s\n",
            "  2650K .......... .......... .......... .......... .......... 63% 13.3M 0s\n",
            "  2700K .......... .......... .......... .......... .......... 64% 30.2M 0s\n",
            "  2750K .......... .......... .......... .......... .......... 65% 34.6M 0s\n",
            "  2800K .......... .......... .......... .......... .......... 67% 14.4M 0s\n",
            "  2850K .......... .......... .......... .......... .......... 68% 48.9M 0s\n",
            "  2900K .......... .......... .......... .......... .......... 69% 29.9M 0s\n",
            "  2950K .......... .......... .......... .......... .......... 70% 39.6M 0s\n",
            "  3000K .......... .......... .......... .......... .......... 71% 14.8M 0s\n",
            "  3050K .......... .......... .......... .......... .......... 72% 49.7M 0s\n",
            "  3100K .......... .......... .......... .......... .......... 74% 20.7M 0s\n",
            "  3150K .......... .......... .......... .......... .......... 75% 17.4M 0s\n",
            "  3200K .......... .......... .......... .......... .......... 76% 36.4M 0s\n",
            "  3250K .......... .......... .......... .......... .......... 77% 27.0M 0s\n",
            "  3300K .......... .......... .......... .......... .......... 78% 18.0M 0s\n",
            "  3350K .......... .......... .......... .......... .......... 79% 30.5M 0s\n",
            "  3400K .......... .......... .......... .......... .......... 81% 19.8M 0s\n",
            "  3450K .......... .......... .......... .......... .......... 82% 23.5M 0s\n",
            "  3500K .......... .......... .......... .......... .......... 83% 25.8M 0s\n",
            "  3550K .......... .......... .......... .......... .......... 84% 53.6M 0s\n",
            "  3600K .......... .......... .......... .......... .......... 85% 31.1M 0s\n",
            "  3650K .......... .......... .......... .......... .......... 87% 21.8M 0s\n",
            "  3700K .......... .......... .......... .......... .......... 88% 32.1M 0s\n",
            "  3750K .......... .......... .......... .......... .......... 89% 18.3M 0s\n",
            "  3800K .......... .......... .......... .......... .......... 90% 23.9M 0s\n",
            "  3850K .......... .......... .......... .......... .......... 91% 97.5M 0s\n",
            "  3900K .......... .......... .......... .......... .......... 92% 21.4M 0s\n",
            "  3950K .......... .......... .......... .......... .......... 94% 26.5M 0s\n",
            "  4000K .......... .......... .......... .......... .......... 95% 30.2M 0s\n",
            "  4050K .......... .......... .......... .......... .......... 96% 25.2M 0s\n",
            "  4100K .......... .......... .......... .......... .......... 97% 20.6M 0s\n",
            "  4150K .......... .......... .......... .......... .......... 98% 24.6M 0s\n",
            "  4200K .......... .......... .......... .......... .......... 99%  129M 0s\n",
            "  4250K                                                       100%  494G=0.2s\n",
            "\n",
            "2020-11-09 00:57:30 (17.0 MB/s) - ‘quotes_by_char.csv’ saved [4352265/4352265]\n",
            "\n"
          ],
          "name": "stderr"
        }
      ]
    },
    {
      "cell_type": "markdown",
      "metadata": {
        "id": "tXOWyany9H39"
      },
      "source": [
        "William Shakespeare is considered one of the greatest playwrights in the English language. He is attributed with 38 plays, 154 sonnets, and other works. Even 400 years later, his writings are still be studied in most high schools and colleges in the US and elsewhere. Shakespeare’s complete works are available online at http://shakespeare.mit.edu/.  We will be using a data set which has Shakespeare character quotes.  A lot of people are fascinated by the characters in the Shakespeare plays.  The first first part of the assignment is to create a Shakespeare character recommender system which is capable of recommending new characters which are similar to a speicific character of interest.  We will also explore using PCA inference to find important words in character quotes.  In the second part of the assignment we will use K-Means clustering to try and find one or more character insights. "
      ]
    },
    {
      "cell_type": "markdown",
      "metadata": {
        "id": "MfpcQSe4KxiR"
      },
      "source": [
        "# Part 1: Shakespeare Recommender System"
      ]
    },
    {
      "cell_type": "markdown",
      "metadata": {
        "id": "vtMyxEOqPY6d"
      },
      "source": [
        "# Question 1 (10 pts)\n",
        "Read the quotes_by_char.csv file into a spark dataframe named `quotes_by_char_df`.  Drop the `Unnamed` column.  Transform the character column such that all character names are lower case."
      ]
    },
    {
      "cell_type": "code",
      "metadata": {
        "id": "wR-HcUxMPinA"
      },
      "source": [
        "# Your code here\n",
        "from pyspark import SQLContext\n",
        "from pyspark.sql import SparkSession\n",
        "\n",
        "spark = SparkSession \\\n",
        "  .builder \\\n",
        "  .master(\"local[*]\")\\\n",
        "  .config(\"spark.memory.fraction\", 0.8) \\\n",
        "  .config(\"spark.executor.memory\", \"12g\") \\\n",
        "  .config(\"spark.driver.memory\", \"12g\")\\\n",
        "  .config(\"spark.memory.offHeap.enabled\",'true')\\\n",
        "  .config(\"spark.memory.offHeap.size\",\"12g\")\\\n",
        "  .getOrCreate()\n",
        "sc = spark.sparkContext\n",
        "sqlContext = SQLContext(sc)\n",
        "\n",
        "quotes_by_char_df = sqlContext.read.csv(\"quotes_by_char.csv\",  header='True')"
      ],
      "execution_count": null,
      "outputs": []
    },
    {
      "cell_type": "code",
      "metadata": {
        "id": "eLL60f0Zd9Wp"
      },
      "source": [
        "import pyspark.sql.functions as f\n",
        "\n",
        "quotes_by_char_df = quotes_by_char_df.drop('_c0')\n",
        "\n",
        "quotes_by_char_df = quotes_by_char_df.withColumn('character',f.lower(f.col('character')))"
      ],
      "execution_count": null,
      "outputs": []
    },
    {
      "cell_type": "code",
      "metadata": {
        "id": "F56XM6z59zxs",
        "outputId": "635c6d9f-fba4-49b2-f971-718c7bfac455",
        "colab": {
          "base_uri": "https://localhost:8080/",
          "height": 204
        }
      },
      "source": [
        "# grading cell do not modify\n",
        "display(quotes_by_char_df.toPandas().head())"
      ],
      "execution_count": null,
      "outputs": [
        {
          "output_type": "display_data",
          "data": {
            "text/html": [
              "<div>\n",
              "<style scoped>\n",
              "    .dataframe tbody tr th:only-of-type {\n",
              "        vertical-align: middle;\n",
              "    }\n",
              "\n",
              "    .dataframe tbody tr th {\n",
              "        vertical-align: top;\n",
              "    }\n",
              "\n",
              "    .dataframe thead th {\n",
              "        text-align: right;\n",
              "    }\n",
              "</style>\n",
              "<table border=\"1\" class=\"dataframe\">\n",
              "  <thead>\n",
              "    <tr style=\"text-align: right;\">\n",
              "      <th></th>\n",
              "      <th>character</th>\n",
              "      <th>all_quotes</th>\n",
              "    </tr>\n",
              "  </thead>\n",
              "  <tbody>\n",
              "    <tr>\n",
              "      <th>0</th>\n",
              "      <td>&amp; c</td>\n",
              "      <td>Well met, Master Ford.</td>\n",
              "    </tr>\n",
              "    <tr>\n",
              "      <th>1</th>\n",
              "      <td>a lord</td>\n",
              "      <td>Sir, it was I.</td>\n",
              "    </tr>\n",
              "    <tr>\n",
              "      <th>2</th>\n",
              "      <td>a patrician</td>\n",
              "      <td>This man has marr'd his fortune. You do the no...</td>\n",
              "    </tr>\n",
              "    <tr>\n",
              "      <th>3</th>\n",
              "      <td>a player</td>\n",
              "      <td>So please your lordship to accept our duty. I ...</td>\n",
              "    </tr>\n",
              "    <tr>\n",
              "      <th>4</th>\n",
              "      <td>aaron</td>\n",
              "      <td>Now climbeth Tamora Olympus' top, Safe out of ...</td>\n",
              "    </tr>\n",
              "  </tbody>\n",
              "</table>\n",
              "</div>"
            ],
            "text/plain": [
              "     character                                         all_quotes\n",
              "0          & c                            Well met, Master Ford. \n",
              "1       a lord                                    Sir, it was I. \n",
              "2  a patrician  This man has marr'd his fortune. You do the no...\n",
              "3     a player  So please your lordship to accept our duty. I ...\n",
              "4        aaron  Now climbeth Tamora Olympus' top, Safe out of ..."
            ]
          },
          "metadata": {
            "tags": []
          }
        }
      ]
    },
    {
      "cell_type": "markdown",
      "metadata": {
        "id": "htKcTxWH99Xq"
      },
      "source": [
        "##### Grading Feedback Cell Do Not Modify"
      ]
    },
    {
      "cell_type": "markdown",
      "metadata": {
        "id": "HlIwZWwePs8X"
      },
      "source": [
        "# Question 2 (10 pts)\n",
        "Create a spark pipeline named `pipe_pca_1` which performs Principal Component Analysis (PCA) on `chars_df`.  Use `pipe_pca_1` to create a new dataframe named `chars_pca_df`.  Analyze the resulting number of TF-IDF data rows and columns in your data.  Add code to the specially marked code cell below which prints the number of rows and cols in your TF-IDF data.  Using the analysis for the number of rows and cols in the data, explicitly set the K parameter in the spark PCA object equal to the maximum number of principal components.  Your overall solution should use sound data science techniques as outlined in lecture for making TF-IDF and PCA score calculations. We will be looking closely at how these calculations are made during the grading process."
      ]
    },
    {
      "cell_type": "code",
      "metadata": {
        "id": "Jidd9mDtQ40M"
      },
      "source": [
        "# your code to create chars_pca_df here\n",
        "from pyspark.ml import feature\n",
        "from pyspark.ml import Pipeline\n",
        "import requests\n",
        "\n",
        "tokenizer = feature.RegexTokenizer(minTokenLength=2)\\\n",
        "  .setGaps(False)\\\n",
        "  .setPattern(\"\\\\p{L}+\")\\\n",
        "  .setInputCol(\"all_quotes\")\\\n",
        "  .setOutputCol(\"words\")\n",
        "\n",
        "stop_words = requests.get('http://ir.dcs.gla.ac.uk/resources/linguistic_utils/stop_words').text.split()\n",
        "\n",
        "sw_filter = feature.StopWordsRemover()\\\n",
        "  .setStopWords(stop_words)\\\n",
        "  .setCaseSensitive(False)\\\n",
        "  .setInputCol(\"words\")\\\n",
        "  .setOutputCol(\"filtered\")\n",
        "\n",
        "cv = feature.CountVectorizer(minTF=4, minDF=10, inputCol='filtered', outputCol='tf')\n",
        "idf = feature.IDF(inputCol='tf', outputCol='tfidf')\n",
        "\n",
        "tfidf = Pipeline(stages=[tokenizer, sw_filter, cv, idf]).fit(quotes_by_char_df)\n",
        "chars_df = tfidf.transform(quotes_by_char_df)\n"
      ],
      "execution_count": null,
      "outputs": []
    },
    {
      "cell_type": "code",
      "metadata": {
        "id": "LyvHFEd0docs",
        "outputId": "06fd0411-ae47-4bd3-8140-450d29bd5be6",
        "colab": {
          "base_uri": "https://localhost:8080/"
        }
      },
      "source": [
        "# your code here to print the number of rows and cols in the TF-IDF data in chars_pca_df here\n",
        "\n",
        "print('number of rows =',chars_df.count())\n",
        "temp_df = chars_df.toPandas()\n",
        "print('number of words =',temp_df['tfidf'].iloc[0].size)"
      ],
      "execution_count": null,
      "outputs": [
        {
          "output_type": "stream",
          "text": [
            "number of rows = 966\n",
            "number of words = 4365\n"
          ],
          "name": "stdout"
        }
      ]
    },
    {
      "cell_type": "code",
      "metadata": {
        "id": "orbRUJua8va7"
      },
      "source": [
        "center = feature.StandardScaler(withMean=True, withStd=False, inputCol='tfidf', outputCol='centered_tfidf')\n",
        "\n",
        "pca = feature.PCA(k=500, inputCol='centered_tfidf', outputCol='scores')\n",
        "\n",
        "pipe_pca_1 = Pipeline(stages=[center, pca])"
      ],
      "execution_count": null,
      "outputs": []
    },
    {
      "cell_type": "code",
      "metadata": {
        "id": "CVlVUmzqlH4g"
      },
      "source": [
        "pca_model = pipe_pca_1.fit(chars_df)\n",
        "chars_pca_df = pca_model.transform(chars_df)"
      ],
      "execution_count": null,
      "outputs": []
    },
    {
      "cell_type": "code",
      "metadata": {
        "id": "9DXERIotZz94",
        "outputId": "c84e64f4-7512-405c-cce0-240bf80605c3",
        "colab": {
          "base_uri": "https://localhost:8080/"
        }
      },
      "source": [
        "sum(pca_model.stages[-1].explainedVariance)"
      ],
      "execution_count": null,
      "outputs": [
        {
          "output_type": "execute_result",
          "data": {
            "text/plain": [
              "0.9999999999999936"
            ]
          },
          "metadata": {
            "tags": []
          },
          "execution_count": 9
        }
      ]
    },
    {
      "cell_type": "code",
      "metadata": {
        "id": "yr9VYXEzSabE",
        "outputId": "604a7782-a828-407a-b56b-d3f111cf28bf",
        "colab": {
          "base_uri": "https://localhost:8080/",
          "height": 289
        }
      },
      "source": [
        "# grading cell - do not modify\n",
        "display(chars_pca_df.toPandas().head())"
      ],
      "execution_count": null,
      "outputs": [
        {
          "output_type": "display_data",
          "data": {
            "text/html": [
              "<div>\n",
              "<style scoped>\n",
              "    .dataframe tbody tr th:only-of-type {\n",
              "        vertical-align: middle;\n",
              "    }\n",
              "\n",
              "    .dataframe tbody tr th {\n",
              "        vertical-align: top;\n",
              "    }\n",
              "\n",
              "    .dataframe thead th {\n",
              "        text-align: right;\n",
              "    }\n",
              "</style>\n",
              "<table border=\"1\" class=\"dataframe\">\n",
              "  <thead>\n",
              "    <tr style=\"text-align: right;\">\n",
              "      <th></th>\n",
              "      <th>character</th>\n",
              "      <th>all_quotes</th>\n",
              "      <th>words</th>\n",
              "      <th>filtered</th>\n",
              "      <th>tf</th>\n",
              "      <th>tfidf</th>\n",
              "      <th>centered_tfidf</th>\n",
              "      <th>scores</th>\n",
              "    </tr>\n",
              "  </thead>\n",
              "  <tbody>\n",
              "    <tr>\n",
              "      <th>0</th>\n",
              "      <td>&amp; c</td>\n",
              "      <td>Well met, Master Ford.</td>\n",
              "      <td>[well, met, master, ford]</td>\n",
              "      <td>[met, master, ford]</td>\n",
              "      <td>(0.0, 0.0, 0.0, 0.0, 0.0, 0.0, 0.0, 0.0, 0.0, ...</td>\n",
              "      <td>(0.0, 0.0, 0.0, 0.0, 0.0, 0.0, 0.0, 0.0, 0.0, ...</td>\n",
              "      <td>[-6.303973377450328, -4.937697269376542, -4.06...</td>\n",
              "      <td>[17.970879497627593, 1.3397602226012955, -2.30...</td>\n",
              "    </tr>\n",
              "    <tr>\n",
              "      <th>1</th>\n",
              "      <td>a lord</td>\n",
              "      <td>Sir, it was I.</td>\n",
              "      <td>[sir, it, was]</td>\n",
              "      <td>[sir]</td>\n",
              "      <td>(0.0, 0.0, 0.0, 0.0, 0.0, 0.0, 0.0, 0.0, 0.0, ...</td>\n",
              "      <td>(0.0, 0.0, 0.0, 0.0, 0.0, 0.0, 0.0, 0.0, 0.0, ...</td>\n",
              "      <td>[-6.303973377450328, -4.937697269376542, -4.06...</td>\n",
              "      <td>[17.970879497627593, 1.3397602226012955, -2.30...</td>\n",
              "    </tr>\n",
              "    <tr>\n",
              "      <th>2</th>\n",
              "      <td>a patrician</td>\n",
              "      <td>This man has marr'd his fortune. You do the no...</td>\n",
              "      <td>[this, man, has, marr, his, fortune, you, do, ...</td>\n",
              "      <td>[man, marr, fortune, nobler, ay, burn]</td>\n",
              "      <td>(0.0, 0.0, 0.0, 0.0, 0.0, 0.0, 0.0, 0.0, 0.0, ...</td>\n",
              "      <td>(0.0, 0.0, 0.0, 0.0, 0.0, 0.0, 0.0, 0.0, 0.0, ...</td>\n",
              "      <td>[-6.303973377450328, -4.937697269376542, -4.06...</td>\n",
              "      <td>[17.970879497627593, 1.3397602226012955, -2.30...</td>\n",
              "    </tr>\n",
              "    <tr>\n",
              "      <th>3</th>\n",
              "      <td>a player</td>\n",
              "      <td>So please your lordship to accept our duty. I ...</td>\n",
              "      <td>[so, please, your, lordship, to, accept, our, ...</td>\n",
              "      <td>[lordship, accept, duty, think, twas, soto, ho...</td>\n",
              "      <td>(0.0, 0.0, 0.0, 0.0, 0.0, 0.0, 0.0, 0.0, 0.0, ...</td>\n",
              "      <td>(0.0, 0.0, 0.0, 0.0, 0.0, 0.0, 0.0, 0.0, 0.0, ...</td>\n",
              "      <td>[-6.303973377450328, -4.937697269376542, -4.06...</td>\n",
              "      <td>[17.970879497627593, 1.3397602226012955, -2.30...</td>\n",
              "    </tr>\n",
              "    <tr>\n",
              "      <th>4</th>\n",
              "      <td>aaron</td>\n",
              "      <td>Now climbeth Tamora Olympus' top, Safe out of ...</td>\n",
              "      <td>[now, climbeth, tamora, olympus, top, safe, ou...</td>\n",
              "      <td>[climbeth, tamora, olympus, safe, fortune, sho...</td>\n",
              "      <td>(16.0, 18.0, 13.0, 12.0, 5.0, 4.0, 0.0, 8.0, 8...</td>\n",
              "      <td>(19.21400365250883, 25.00922811532751, 16.3465...</td>\n",
              "      <td>[12.910030275058501, 20.071530845950967, 12.28...</td>\n",
              "      <td>[-37.15074537527132, -11.094130443411721, 5.10...</td>\n",
              "    </tr>\n",
              "  </tbody>\n",
              "</table>\n",
              "</div>"
            ],
            "text/plain": [
              "     character  ...                                             scores\n",
              "0          & c  ...  [17.970879497627593, 1.3397602226012955, -2.30...\n",
              "1       a lord  ...  [17.970879497627593, 1.3397602226012955, -2.30...\n",
              "2  a patrician  ...  [17.970879497627593, 1.3397602226012955, -2.30...\n",
              "3     a player  ...  [17.970879497627593, 1.3397602226012955, -2.30...\n",
              "4        aaron  ...  [-37.15074537527132, -11.094130443411721, 5.10...\n",
              "\n",
              "[5 rows x 8 columns]"
            ]
          },
          "metadata": {
            "tags": []
          }
        }
      ]
    },
    {
      "cell_type": "markdown",
      "metadata": {
        "id": "GI4ZBvnpQ6bH"
      },
      "source": [
        "##### Grading Feedback Cell"
      ]
    },
    {
      "cell_type": "markdown",
      "metadata": {
        "id": "Dqk2_l1rU1yb"
      },
      "source": [
        "# Question 3 (10 pts):\n",
        "Analyze the PCA data in `chars_pca_df`.  Create scree and cumulative variance explained plots.  Assuming you were trying to reduce the number of columns to train a machine learning model, how many princiapal components would you pick such that the number of data columns is reduced from the original data set but you still capture a reasonable amount of variance in the data.  Describe in words the number of principal components you would choose and how you arrived at that number of components."
      ]
    },
    {
      "cell_type": "code",
      "metadata": {
        "id": "NRBmwOQZVpUD",
        "outputId": "66d20299-4d8c-4fc7-e0d4-24c25986f5a6",
        "colab": {
          "base_uri": "https://localhost:8080/",
          "height": 312
        }
      },
      "source": [
        "# your code here\n",
        "import matplotlib.pyplot as plt\n",
        "import numpy as np\n",
        "\n",
        "plt.figure()\n",
        "explained_var = pca_model.stages[-1].explainedVariance\n",
        "plt.plot(np.arange(1, len(explained_var)+1), explained_var)\n",
        "plt.title(\"Scree Plot\")\n",
        "plt.xlabel(\"Principal Component\")\n",
        "plt.ylabel(\"Proportion Variance Explained\")"
      ],
      "execution_count": null,
      "outputs": [
        {
          "output_type": "execute_result",
          "data": {
            "text/plain": [
              "Text(0, 0.5, 'Proportion Variance Explained')"
            ]
          },
          "metadata": {
            "tags": []
          },
          "execution_count": 11
        },
        {
          "output_type": "display_data",
          "data": {
            "image/png": "[encoded data removed]",
            "text/plain": [
              "<Figure size 432x288 with 1 Axes>"
            ]
          },
          "metadata": {
            "tags": [],
            "needs_background": "light"
          }
        }
      ]
    },
    {
      "cell_type": "code",
      "metadata": {
        "id": "86N6g2I124J-",
        "outputId": "28da581e-f924-43ee-9f85-5b4d4fce41dc",
        "colab": {
          "base_uri": "https://localhost:8080/",
          "height": 312
        }
      },
      "source": [
        "cum_sum = np.cumsum(explained_var)\n",
        "plt.figure()\n",
        "plt.plot(np.arange(1, len(explained_var)+1), cum_sum)\n",
        "plt.title(\"Cumulative Sum of Variance Explained\")\n",
        "plt.xlabel(\"Cumulative Components\")\n",
        "plt.ylabel(\"Cumulative Sum of Variance Explained\")"
      ],
      "execution_count": null,
      "outputs": [
        {
          "output_type": "execute_result",
          "data": {
            "text/plain": [
              "Text(0, 0.5, 'Cumulative Sum of Variance Explained')"
            ]
          },
          "metadata": {
            "tags": []
          },
          "execution_count": 12
        },
        {
          "output_type": "display_data",
          "data": {
            "image/png": "[encoded data removed]",
            "text/plain": [
              "<Figure size 432x288 with 1 Axes>"
            ]
          },
          "metadata": {
            "tags": [],
            "needs_background": "light"
          }
        }
      ]
    },
    {
      "cell_type": "markdown",
      "metadata": {
        "id": "-JK1Dwc-LjDu"
      },
      "source": [
        "##### Grading Feedback Cell"
      ]
    },
    {
      "cell_type": "markdown",
      "metadata": {
        "id": "b1ABRRMMVrTE"
      },
      "source": [
        "Your explanation here: \n",
        "\n",
        "I would set # of pca = 200 according to the cumulative sum of variance plot. When # of principle components = 200, the variance explained is slightly reduced from when # of principle components = 500, but it is a lot more efficient. So I would say this is a good trade off point for efficiency and acuuracy.\n",
        "\n",
        "\n"
      ]
    },
    {
      "cell_type": "markdown",
      "metadata": {
        "id": "CF_GUUYRVu6F"
      },
      "source": [
        "##### Grading Feedback Cell"
      ]
    },
    {
      "cell_type": "markdown",
      "metadata": {
        "id": "qk1kbYHz-San"
      },
      "source": [
        "# Question 4 (20 pts):\n",
        "In this question your will write code which makes recommendations on new characters to study based on a specific character that a Shakespeare fan likes.\n",
        "\n",
        "Create a function named get_nearest_chars that takes 2 arguments: char and num_nearest_chars. The char arg is a string which defines the character for which we are interested in finding similar characters. The num_nearest_chars arg is an integer that defines the total number of nearest characters which we want included in the return list. The get_nearest_chars function shall perform all of its internal operations in spark and return a python list containing a string corresponding to each of the nearest characters defined by num_nearest_chars. Compute the list of characterss which are closest to the char arg using L2 Euclidian distance. \n",
        "\n",
        "Hint: Start by creating a new pipe named pipe_pca_2 that is the same as pipe_pca_1 except set K equal to 2 when instantiating the PCA object. We are essentially fixing the number of PCA components to 2 so that we will limit the Euclidian distance to 2 dimensions for this problem. \n",
        "\n",
        "Your get_nearest_chars function should rigorously error check input data to verify that the user is not making illegal requests. We plan on trying your code against secret tests which verify your error checking to make the challenge more interesting. You are free to break the problem up into as many sub functions as you wish but you must implement get_nearest_chars as the top level entry point to your code."
      ]
    },
    {
      "cell_type": "code",
      "metadata": {
        "id": "zzDuHHiHPhLQ"
      },
      "source": [
        "# your code here\n",
        "\n",
        "pca_2 = feature.PCA(k=2, inputCol='centered_tfidf', outputCol='scores')\n",
        "pipe_pca_2 = Pipeline(stages=[center, pca_2])\n",
        "pca_model_2 = pipe_pca_2.fit(chars_df)"
      ],
      "execution_count": null,
      "outputs": []
    },
    {
      "cell_type": "code",
      "metadata": {
        "id": "uPv2uqbELxWI"
      },
      "source": [
        "from pyspark.sql import types\n",
        "\n",
        "def l2_dist(c1, c2):    \n",
        "    return float(np.sqrt((c1 - c2).T.dot((c1 - c2))))\n",
        "\n",
        "l2_dist_udf = f.udf(l2_dist, types.FloatType())"
      ],
      "execution_count": null,
      "outputs": []
    },
    {
      "cell_type": "code",
      "metadata": {
        "id": "s-UK57jtQcBc"
      },
      "source": [
        "def get_nearest_chars(char, num_nearest_chars):\n",
        "  if not isinstance(char, str):\n",
        "    print(\"wrong inputs\")\n",
        "    return\n",
        "\n",
        "  if not isinstance(num_nearest_chars, int):\n",
        "    print(\"wrong inputs\")\n",
        "    return\n",
        "\n",
        "  if chars_df.filter(chars_df.character.contains(char)).count() != 1:\n",
        "    print(\"wrong inputs\")\n",
        "    return\n",
        "\n",
        "  temp_df = pca_model_2.transform(chars_df).\\\n",
        "                        where(f.col(\"character\")==char).\\\n",
        "                        select(f.col(\"scores\").alias('cha_scores')).\\\n",
        "                        join(pca_model_2.transform(chars_df)).\\\n",
        "                        withColumn('dist', l2_dist_udf('scores', 'cha_scores')).\\\n",
        "                        select(\"character\", \"all_quotes\", \"dist\").\\\n",
        "                        orderBy(f.asc(\"dist\")).\\\n",
        "                        limit(num_nearest_chars+1).\\\n",
        "                        toPandas()\n",
        "\n",
        "  nearest_chars = temp_df[\"character\"].tolist()\n",
        "  nearest_chars.pop(0)\n",
        "\n",
        "  return(nearest_chars)"
      ],
      "execution_count": null,
      "outputs": []
    },
    {
      "cell_type": "code",
      "metadata": {
        "id": "6Fw5i39WSna6",
        "outputId": "c2121393-efe5-482d-8341-504a4a424130",
        "colab": {
          "base_uri": "https://localhost:8080/"
        }
      },
      "source": [
        "# grading cell - do non modify\n",
        "print(get_nearest_chars('romeo', 5))\n",
        "print(get_nearest_chars('juliet', 5))"
      ],
      "execution_count": null,
      "outputs": [
        {
          "output_type": "stream",
          "text": [
            "['juliet', 'king henry iv', 'mark antony', 'pericles', 'duke vincentio']\n",
            "['romeo', 'mark antony', 'duke vincentio', 'king henry iv', 'titus andronicus']\n"
          ],
          "name": "stdout"
        }
      ]
    },
    {
      "cell_type": "markdown",
      "metadata": {
        "id": "FXbidewSe9cm"
      },
      "source": [
        "##### Grading Feedback Cell"
      ]
    },
    {
      "cell_type": "markdown",
      "metadata": {
        "id": "4ONVAI_ke_rT"
      },
      "source": [
        "# Question 5 (10 pts):\n",
        "Using PCA score data from PC1 and PC2, create a 2 dimensional character visualization plot which shows what characters are similar to the `juliet` character.  Your plot should clearly label the characters closest to juliet but not contain so many labels that it is hard or impossible to interpret.  Filter the data as needed to make a nice visualization which is easy to read and interpret.  You can use pipe_pca_2 for this question."
      ]
    },
    {
      "cell_type": "code",
      "metadata": {
        "id": "u8ZIq0qcyR-g"
      },
      "source": [
        "# your code here\n",
        "char_list = get_nearest_chars('juliet', 20)\n",
        "char_list.insert(0, \"juliet\")\n",
        "character_names = np.array(char_list)\n",
        "temp_df = pca_model_2.transform(chars_df)\n",
        "\n",
        "X = np.empty((0,2))\n",
        "for i in range(len(char_list)):\n",
        "  X = np.append(X, temp_df.select('scores').where(f.col(\"character\")==char_list[i]).rdd.map(lambda x: x['scores']).collect(), axis=0)\n",
        "  "
      ],
      "execution_count": null,
      "outputs": []
    },
    {
      "cell_type": "code",
      "metadata": {
        "id": "9q6C3aV-1lzU",
        "outputId": "a1c8ac93-a62a-40b0-a2f6-54a805f58c6d",
        "colab": {
          "base_uri": "https://localhost:8080/",
          "height": 480
        }
      },
      "source": [
        "\n",
        "fig, ax = plt.subplots()\n",
        "fig.set_figheight(7)\n",
        "fig.set_figwidth(7)\n",
        "ax.scatter(X[:,0], X[:,1])\n",
        "fig.suptitle(\"PC2 Scores vs. PC1 Scores\", y=.92)\n",
        "ax.set_xlabel(\"PC1\")\n",
        "ax.set_ylabel(\"PC2\")\n",
        "\n",
        "for i, txt in enumerate(character_names):\n",
        "    ax.annotate(txt, (X[i,0], X[i,1]))\n",
        "    \n",
        "display(plt.show())"
      ],
      "execution_count": null,
      "outputs": [
        {
          "output_type": "display_data",
          "data": {
            "image/png": "[encoded data removed]",
            "text/plain": [
              "<Figure size 504x504 with 1 Axes>"
            ]
          },
          "metadata": {
            "tags": [],
            "needs_background": "light"
          }
        },
        {
          "output_type": "display_data",
          "data": {
            "text/plain": [
              "None"
            ]
          },
          "metadata": {
            "tags": []
          }
        }
      ]
    },
    {
      "cell_type": "markdown",
      "metadata": {
        "id": "b7jzNCJtmL6P"
      },
      "source": [
        "##### Grading Feedback Cell"
      ]
    },
    {
      "cell_type": "markdown",
      "metadata": {
        "id": "jCwbTodAmd8s"
      },
      "source": [
        "# Question 6 (10 pts)\n",
        "Perform an inference analysis on the 10 most and 10 least important words in the data set as defined by the absolute value of the PC1 loading vector coefficients.  Present the data by loading and printing 2 Pandas data frames containing the 10 most important words and 10 least important words named `most_imp_df` and `least_imp_df` respectively.  The data frames shall have 2 columns named `word` and `loading`.  Provide a written interpretation of the word importances.  You can use pipe_pca_2 for this question."
      ]
    },
    {
      "cell_type": "code",
      "metadata": {
        "id": "UFmSgU_QoXin"
      },
      "source": [
        "# your code here\n",
        "import pandas as pd\n",
        "\n",
        "PC1 = pca_model_2.stages[-1].pc.toArray()[:, 0].tolist()\n",
        "PC1 = [abs(x) for x in PC1]\n",
        "\n",
        "vocabulary = tfidf.stages[2].vocabulary\n"
      ],
      "execution_count": null,
      "outputs": []
    },
    {
      "cell_type": "code",
      "metadata": {
        "id": "AmggTNgBJQFX"
      },
      "source": [
        "pc_loadings = pd.DataFrame([vocabulary, PC1]).T.rename(columns={0: 'word', \n",
        "                                                                1: 'loading',})"
      ],
      "execution_count": null,
      "outputs": []
    },
    {
      "cell_type": "code",
      "metadata": {
        "id": "K3k1tdDlNKP5"
      },
      "source": [
        "least_imp_df = pc_loadings.sort_values('loading').head(10)\n",
        "most_imp_df = pc_loadings.sort_values('loading').tail(10)"
      ],
      "execution_count": null,
      "outputs": []
    },
    {
      "cell_type": "code",
      "metadata": {
        "id": "4KD45JN-oYjH",
        "outputId": "7507c3d4-d53e-409f-9fa9-29c7537cceb3",
        "colab": {
          "base_uri": "https://localhost:8080/",
          "height": 701
        }
      },
      "source": [
        "# grading cell - do not modify\n",
        "display(most_imp_df)\n",
        "display(least_imp_df)"
      ],
      "execution_count": null,
      "outputs": [
        {
          "output_type": "display_data",
          "data": {
            "text/html": [
              "<div>\n",
              "<style scoped>\n",
              "    .dataframe tbody tr th:only-of-type {\n",
              "        vertical-align: middle;\n",
              "    }\n",
              "\n",
              "    .dataframe tbody tr th {\n",
              "        vertical-align: top;\n",
              "    }\n",
              "\n",
              "    .dataframe thead th {\n",
              "        text-align: right;\n",
              "    }\n",
              "</style>\n",
              "<table border=\"1\" class=\"dataframe\">\n",
              "  <thead>\n",
              "    <tr style=\"text-align: right;\">\n",
              "      <th></th>\n",
              "      <th>word</th>\n",
              "      <th>loading</th>\n",
              "    </tr>\n",
              "  </thead>\n",
              "  <tbody>\n",
              "    <tr>\n",
              "      <th>18</th>\n",
              "      <td>king</td>\n",
              "      <td>0.135062</td>\n",
              "    </tr>\n",
              "    <tr>\n",
              "      <th>11</th>\n",
              "      <td>man</td>\n",
              "      <td>0.139621</td>\n",
              "    </tr>\n",
              "    <tr>\n",
              "      <th>7</th>\n",
              "      <td>come</td>\n",
              "      <td>0.139967</td>\n",
              "    </tr>\n",
              "    <tr>\n",
              "      <th>9</th>\n",
              "      <td>let</td>\n",
              "      <td>0.144801</td>\n",
              "    </tr>\n",
              "    <tr>\n",
              "      <th>4</th>\n",
              "      <td>good</td>\n",
              "      <td>0.149801</td>\n",
              "    </tr>\n",
              "    <tr>\n",
              "      <th>8</th>\n",
              "      <td>ll</td>\n",
              "      <td>0.153761</td>\n",
              "    </tr>\n",
              "    <tr>\n",
              "      <th>2</th>\n",
              "      <td>shall</td>\n",
              "      <td>0.170819</td>\n",
              "    </tr>\n",
              "    <tr>\n",
              "      <th>3</th>\n",
              "      <td>thee</td>\n",
              "      <td>0.193031</td>\n",
              "    </tr>\n",
              "    <tr>\n",
              "      <th>1</th>\n",
              "      <td>thy</td>\n",
              "      <td>0.210808</td>\n",
              "    </tr>\n",
              "    <tr>\n",
              "      <th>0</th>\n",
              "      <td>thou</td>\n",
              "      <td>0.294436</td>\n",
              "    </tr>\n",
              "  </tbody>\n",
              "</table>\n",
              "</div>"
            ],
            "text/plain": [
              "     word   loading\n",
              "18   king  0.135062\n",
              "11    man  0.139621\n",
              "7    come  0.139967\n",
              "9     let  0.144801\n",
              "4    good  0.149801\n",
              "8      ll  0.153761\n",
              "2   shall  0.170819\n",
              "3    thee  0.193031\n",
              "1     thy  0.210808\n",
              "0    thou  0.294436"
            ]
          },
          "metadata": {
            "tags": []
          }
        },
        {
          "output_type": "display_data",
          "data": {
            "text/html": [
              "<div>\n",
              "<style scoped>\n",
              "    .dataframe tbody tr th:only-of-type {\n",
              "        vertical-align: middle;\n",
              "    }\n",
              "\n",
              "    .dataframe tbody tr th {\n",
              "        vertical-align: top;\n",
              "    }\n",
              "\n",
              "    .dataframe thead th {\n",
              "        text-align: right;\n",
              "    }\n",
              "</style>\n",
              "<table border=\"1\" class=\"dataframe\">\n",
              "  <thead>\n",
              "    <tr style=\"text-align: right;\">\n",
              "      <th></th>\n",
              "      <th>word</th>\n",
              "      <th>loading</th>\n",
              "    </tr>\n",
              "  </thead>\n",
              "  <tbody>\n",
              "    <tr>\n",
              "      <th>4364</th>\n",
              "      <td>allowance</td>\n",
              "      <td>0</td>\n",
              "    </tr>\n",
              "    <tr>\n",
              "      <th>2117</th>\n",
              "      <td>resolution</td>\n",
              "      <td>0</td>\n",
              "    </tr>\n",
              "    <tr>\n",
              "      <th>2118</th>\n",
              "      <td>advance</td>\n",
              "      <td>0</td>\n",
              "    </tr>\n",
              "    <tr>\n",
              "      <th>2119</th>\n",
              "      <td>bay</td>\n",
              "      <td>0</td>\n",
              "    </tr>\n",
              "    <tr>\n",
              "      <th>3309</th>\n",
              "      <td>homage</td>\n",
              "      <td>0</td>\n",
              "    </tr>\n",
              "    <tr>\n",
              "      <th>2121</th>\n",
              "      <td>rouse</td>\n",
              "      <td>0</td>\n",
              "    </tr>\n",
              "    <tr>\n",
              "      <th>2122</th>\n",
              "      <td>opposed</td>\n",
              "      <td>0</td>\n",
              "    </tr>\n",
              "    <tr>\n",
              "      <th>2123</th>\n",
              "      <td>laughter</td>\n",
              "      <td>0</td>\n",
              "    </tr>\n",
              "    <tr>\n",
              "      <th>2124</th>\n",
              "      <td>journey</td>\n",
              "      <td>0</td>\n",
              "    </tr>\n",
              "    <tr>\n",
              "      <th>3308</th>\n",
              "      <td>rags</td>\n",
              "      <td>0</td>\n",
              "    </tr>\n",
              "  </tbody>\n",
              "</table>\n",
              "</div>"
            ],
            "text/plain": [
              "            word loading\n",
              "4364   allowance       0\n",
              "2117  resolution       0\n",
              "2118     advance       0\n",
              "2119         bay       0\n",
              "3309      homage       0\n",
              "2121       rouse       0\n",
              "2122     opposed       0\n",
              "2123    laughter       0\n",
              "2124     journey       0\n",
              "3308        rags       0"
            ]
          },
          "metadata": {
            "tags": []
          }
        }
      ]
    },
    {
      "cell_type": "markdown",
      "metadata": {
        "id": "Vv4QdBLHoazI"
      },
      "source": [
        "Your explanation here\n",
        "\n",
        "A higher absoulte value of the PC1 loading vector coefficients summation indicates how that specific word is correlated to the princeple component. The higher the value, the more positively (if originally>0)/negatively(if originally<0) correlated to the princeple component. \n",
        "Most of the words in the most_imp_df seem to be more frequently used. Many of the words are connection words. Whereas the words in the least_imp_df seem to be less frequently used with a loading coefficient of PC1 = 0  \n"
      ]
    },
    {
      "cell_type": "markdown",
      "metadata": {
        "id": "R2-UrAHZopfR"
      },
      "source": [
        "##### Grading Feedback Cell"
      ]
    },
    {
      "cell_type": "markdown",
      "metadata": {
        "id": "GIN60eWvK7N2"
      },
      "source": [
        "# Part 2: K-Means Clustering"
      ]
    },
    {
      "cell_type": "markdown",
      "metadata": {
        "id": "PHajMTKtGrI8"
      },
      "source": [
        "# Question 7 (10 pts)\n",
        "Read the python K-means [docs](https://spark.apache.org/docs/latest/ml-clustering.html#k-means).  Use the `chars_pca_df` from question 2 above and compute K-Means silhouette scores for K = 2 through 6 on the PCA score data. You are free to create a new dataframe to reorganize the PCA data or regenerate the data in chars_pca_df if you wish.   Train your model on each K 3 times to find the lowest silhouette score.  The silhouette score is a measure of within cluster variation.  Remember that because K-Means starts out with random cluster assignments, it is not guaranteed to find a global minima so you should make multiple runs to find the lowest score.  Plot the silhouette scores vs. K and report the lowest silhouette score from the plot. If the process of finding the lowest silhouette scores is taking too much time, reduce the number of PCA score columns such that you capture a reasonable amount of variance but complete training in a more reasonable amount of time.  The work you did in question 3 above could be useful here."
      ]
    },
    {
      "cell_type": "code",
      "metadata": {
        "id": "x9s1bB3YMRgN"
      },
      "source": [
        "# your code here\n",
        "\n",
        "from pyspark.ml import clustering\n",
        "from pyspark.ml import evaluation\n",
        "from pyspark.ml.evaluation import ClusteringEvaluator"
      ],
      "execution_count": null,
      "outputs": []
    },
    {
      "cell_type": "code",
      "metadata": {
        "id": "QHQTImVZVcmo"
      },
      "source": [
        "#build kmeans clustering model\n",
        "#I inclueded the same codes for each k value. They look a bit redundent, but helpful for plotting different clustering results in question 8\n",
        "\n",
        "kmeans = clustering.KMeans(k=2, featuresCol='scores', predictionCol='kmeans_feat')\n",
        "kmeans_pipe = Pipeline(stages=[kmeans])\n",
        "kmeans_pipe_model = kmeans_pipe.fit(chars_pca_df)\n",
        "\n",
        "predictions2 = kmeans_pipe_model.transform(chars_pca_df)"
      ],
      "execution_count": null,
      "outputs": []
    },
    {
      "cell_type": "code",
      "metadata": {
        "id": "VOCKV28eWMcn",
        "outputId": "a9ff015f-a43f-4c96-b132-52f5455790a7",
        "colab": {
          "base_uri": "https://localhost:8080/"
        }
      },
      "source": [
        "evaluator = ClusteringEvaluator().setFeaturesCol(\"scores\").setPredictionCol(\"kmeans_feat\").setMetricName(\"silhouette\")\n",
        "silhouette2 = evaluator.evaluate(predictions2)\n",
        "print(\"when k = 2, Silhouette score = \" + str(silhouette2))"
      ],
      "execution_count": null,
      "outputs": [
        {
          "output_type": "stream",
          "text": [
            "when k = 2, Silhouette score = 0.9755982918350709\n"
          ],
          "name": "stdout"
        }
      ]
    },
    {
      "cell_type": "code",
      "metadata": {
        "id": "hP65NIENUDHV",
        "outputId": "6adaa63e-5d3e-467a-89c8-a98eae2ee2dd",
        "colab": {
          "base_uri": "https://localhost:8080/"
        }
      },
      "source": [
        "kmeans = clustering.KMeans(k=3, featuresCol='scores', predictionCol='kmeans_feat')\n",
        "kmeans_pipe = Pipeline(stages=[kmeans])\n",
        "kmeans_pipe_model = kmeans_pipe.fit(chars_pca_df)\n",
        "\n",
        "predictions3 = kmeans_pipe_model.transform(chars_pca_df)\n",
        "\n",
        "evaluator = ClusteringEvaluator().setFeaturesCol(\"scores\").setPredictionCol(\"kmeans_feat\").setMetricName(\"silhouette\")\n",
        "silhouette3 = evaluator.evaluate(predictions3)\n",
        "print(\"when k = 3, Silhouette score = \" + str(silhouette3))"
      ],
      "execution_count": null,
      "outputs": [
        {
          "output_type": "stream",
          "text": [
            "when k = 3, Silhouette score = 0.8812799085049696\n"
          ],
          "name": "stdout"
        }
      ]
    },
    {
      "cell_type": "code",
      "metadata": {
        "id": "ZcpFgPyPUSUb",
        "outputId": "c92491c7-2d97-438f-e8cf-6ca8ec4d196a",
        "colab": {
          "base_uri": "https://localhost:8080/"
        }
      },
      "source": [
        "kmeans = clustering.KMeans(k=4, featuresCol='scores', predictionCol='kmeans_feat')\n",
        "kmeans_pipe = Pipeline(stages=[kmeans])\n",
        "kmeans_pipe_model = kmeans_pipe.fit(chars_pca_df)\n",
        "\n",
        "predictions4 = kmeans_pipe_model.transform(chars_pca_df)\n",
        "\n",
        "evaluator = ClusteringEvaluator().setFeaturesCol(\"scores\").setPredictionCol(\"kmeans_feat\").setMetricName(\"silhouette\")\n",
        "silhouette4 = evaluator.evaluate(predictions4)\n",
        "print(\"when k = 4, Silhouette score = \" + str(silhouette4))"
      ],
      "execution_count": null,
      "outputs": [
        {
          "output_type": "stream",
          "text": [
            "when k = 4, Silhouette score = 0.871478883372053\n"
          ],
          "name": "stdout"
        }
      ]
    },
    {
      "cell_type": "code",
      "metadata": {
        "id": "p47JDLRZUcTe",
        "outputId": "177ed8d2-855e-4024-e85a-3709e2517e23",
        "colab": {
          "base_uri": "https://localhost:8080/"
        }
      },
      "source": [
        "kmeans = clustering.KMeans(k=5, featuresCol='scores', predictionCol='kmeans_feat')\n",
        "kmeans_pipe = Pipeline(stages=[kmeans])\n",
        "kmeans_pipe_model = kmeans_pipe.fit(chars_pca_df)\n",
        "\n",
        "predictions5 = kmeans_pipe_model.transform(chars_pca_df)\n",
        "\n",
        "evaluator = ClusteringEvaluator().setFeaturesCol(\"scores\").setPredictionCol(\"kmeans_feat\").setMetricName(\"silhouette\")\n",
        "silhouette5 = evaluator.evaluate(predictions5)\n",
        "print(\"when k = 5, Silhouette score = \" + str(silhouette5))"
      ],
      "execution_count": null,
      "outputs": [
        {
          "output_type": "stream",
          "text": [
            "when k = 5, Silhouette score = 0.8018071832488798\n"
          ],
          "name": "stdout"
        }
      ]
    },
    {
      "cell_type": "code",
      "metadata": {
        "id": "vdjBf0FtUcbN",
        "outputId": "1d5bb039-6a49-438c-9d3a-10e96d670e01",
        "colab": {
          "base_uri": "https://localhost:8080/"
        }
      },
      "source": [
        "kmeans = clustering.KMeans(k=6, featuresCol='scores', predictionCol='kmeans_feat')\n",
        "kmeans_pipe = Pipeline(stages=[kmeans])\n",
        "kmeans_pipe_model = kmeans_pipe.fit(chars_pca_df)\n",
        "\n",
        "predictions6 = kmeans_pipe_model.transform(chars_pca_df)\n",
        "\n",
        "evaluator = ClusteringEvaluator().setFeaturesCol(\"scores\").setPredictionCol(\"kmeans_feat\").setMetricName(\"silhouette\")\n",
        "silhouette6 = evaluator.evaluate(predictions6)\n",
        "print(\"when k = 6, Silhouette score = \" + str(silhouette6))"
      ],
      "execution_count": null,
      "outputs": [
        {
          "output_type": "stream",
          "text": [
            "when k = 6, Silhouette score = 0.7878170858773826\n"
          ],
          "name": "stdout"
        }
      ]
    },
    {
      "cell_type": "code",
      "metadata": {
        "id": "b3LA05YGmhfC",
        "outputId": "ed13a3d7-4c20-4fab-c912-e3671e67962b",
        "colab": {
          "base_uri": "https://localhost:8080/"
        }
      },
      "source": [
        "sihouette_scores = [silhouette2,silhouette3,silhouette4,silhouette5,silhouette6]\n",
        "k_values = [2,3,4,5,6]\n",
        "\n",
        "plt.plot(k_values, sihouette_scores)\n",
        "plt.title('Sihouette Scores v.s. K')\n",
        "plt.xlabel('k')\n",
        "plt.ylabel('sihouette score')\n",
        "plt.show()"
      ],
      "execution_count": null,
      "outputs": [
        {
          "output_type": "display_data",
          "data": {
            "image/png": "[encoded data removed]",
            "text/plain": [
              "<Figure size 432x288 with 1 Axes>"
            ]
          },
          "metadata": {
            "tags": [],
            "needs_background": "light"
          }
        }
      ]
    },
    {
      "cell_type": "markdown",
      "metadata": {
        "id": "h6hPAQMLMSMG"
      },
      "source": [
        "##### Grading Feedback Cell"
      ]
    },
    {
      "cell_type": "markdown",
      "metadata": {
        "id": "peXo1K9rMXDJ"
      },
      "source": [
        "# Question 8 (20 pts)\n",
        "Perform K-Means clustering using the `chars_pca_df` and plot the results using a scatter plot.  Color the points by cluster assignment.  You are allowed to create a new dataframe from chars_pca_df or regenerate the data if you wish.  The work you did in question 7 above can be applied directly to this problem.  The goal of this question is to try to find an interesting insight about the Shakespeare characters.  For example, perhaps you spot one or more outlier characters that stands apart from the rest of the characters in the cluster.  An example of this is how IST-718 and IST-719 stand out from the rest of the cluster in the unsupervised learning notebook presented in class (though that plot did not use K-Means clustering, it only used PCA).  Note that in the previous example, I am only providing an example of 1 type of interesting insight.  When you find something interesting, add labels to the points of interest so that the reader of your plot can understand the insight.  Provide an explanation of your insight.  This question is completely open ended and you are free to generate the clusters any way you see fit as long as you use K-Means and your methodology follows good data science practices.  You can plot the observation data in 2 dimensions by using PC1 and PC2 as the X and Y coordinates.  Your plot should be easy to read and not overly cluttered.  This question will be graded on your level of effort in comparison to what insights other students in the class find."
      ]
    },
    {
      "cell_type": "code",
      "metadata": {
        "id": "vs1j6Ac2Y2or"
      },
      "source": [
        "# your code here\n",
        "characters = chars_pca_df.select(\"character\").rdd.flatMap(lambda x: x).collect()\n",
        "cluster = predictions2.select(\"kmeans_feat\").rdd.flatMap(lambda x: x).collect()\n",
        "\n",
        "temp_dict = {'characters':characters, 'kmeans_cluster':cluster}\n",
        "temp_df = pd.DataFrame(temp_dict)\n",
        "\n",
        "X = np.array(pca_model_2.transform(chars_df).select('scores').rdd.map(lambda x: x['scores']).collect())\n",
        "temp_df[\"pc1\"],temp_df[\"pc2\"] = X[:,0], X[:,1]"
      ],
      "execution_count": null,
      "outputs": []
    },
    {
      "cell_type": "code",
      "metadata": {
        "id": "xtiGJFIetGF7",
        "outputId": "3fb3f8f4-85bc-4140-ca28-2419d03e2031",
        "colab": {
          "base_uri": "https://localhost:8080/"
        }
      },
      "source": [
        "import seaborn as sns\n",
        "sns.scatterplot(data=temp_df, x=\"pc1\", y=\"pc2\", hue=\"kmeans_cluster\")\n",
        "fig = plt.gcf()\n",
        "fig.set_size_inches( 15, 15)\n",
        "plt.title(\"2 dimensional PCA scatter plot of characters colored by k means clusters\")\n",
        "\n",
        "\n",
        "for row in range(0,temp_df.shape[0]):\n",
        "     plt.text(temp_df.pc1[row]+0.01, temp_df.pc2[row], temp_df.characters[row], horizontalalignment='left', \n",
        "     fontsize='medium', color='black', weight='medium')\n",
        "\n"
      ],
      "execution_count": null,
      "outputs": [
        {
          "output_type": "display_data",
          "data": {
            "image/png": "[encoded data removed]",
            "text/plain": [
              "<Figure size 1080x1080 with 1 Axes>"
            ]
          },
          "metadata": {
            "tags": [],
            "needs_background": "light"
          }
        }
      ]
    },
    {
      "cell_type": "markdown",
      "metadata": {
        "id": "WiqrsCF8Y4Tn"
      },
      "source": [
        "##### Grading Feedback Cell"
      ]
    },
    {
      "cell_type": "markdown",
      "metadata": {
        "id": "MqY3QMORPxFV"
      },
      "source": [
        "Your insight explanation here:\n",
        "\n",
        "The plot above uses k = 2 in k-means clustering as it gives the best silhouette score, but I had actually plotted for all different k values from 2 to 6 to get insights of the clustering.\n",
        "In the above plot, only one data point, character = \"falstaff\", is in its only cluster, everything else belongs to the other cluster. This result is consistent with how \"falstaff\" is distanced from other points in terms of its pc1 and pc2 scores. I am not very familiar with this character, but I guess its comic characteristic is very different from other characters. \n",
        "As I plotted the clustering results with larger k values, the majority of data pints always belong to one cluster, and they are closely distributed around (0,0) on the scatter plot of pc2 v.s. pc1. Whereas data points further away from (0,0) as assigned to new clusters based on their L2 distance."
      ]
    },
    {
      "cell_type": "markdown",
      "metadata": {
        "id": "lRCzBhAIP0CX"
      },
      "source": [
        "##### Grading Feedback Cell"
      ]
    }
  ]
}